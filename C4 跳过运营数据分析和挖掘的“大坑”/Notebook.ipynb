{
 "cells": [
  {
   "cell_type": "markdown",
   "metadata": {},
   "source": [
    "# 第四章 跳过运营数据分析和挖掘的“大坑”\n",
    "\n",
    "经历了前几章的环节之后，在数据分析和挖掘的过程中，经常会遇到一些难以理解的问题和困惑，面对这些问题，这章将展开讨论，内容涵盖了聚类、回归、分类、关联、异常检测、时间序列、路径分析、漏斗分析、归因分析、热力图分析以及其他的统计分析相关话题，针对部分话题将进行Python代码实操，以加深理解。"
   ]
  },
  {
   "cell_type": "markdown",
   "metadata": {},
   "source": [
    "## 4.1 聚类分析\n",
    "\n",
    "**聚类**是数据挖掘和计算的基本任务，是将大量数据集中具有“相似”特征的数据点或者样本划分为一个类别。其基本思想是“物以类聚，人以群分”，因此大量的数据集中必然存在相似的数据样本，基于这个思想将数据区分开来，并发现不同类的特征。\n",
    "\n",
    "聚类常用语数据探索或挖掘的前期，在没有进行先验经验的背景下进行探索性分析（EDA），也适用于样本量较大情况下的数据预处理工作。\n",
    "\n",
    "常用的聚类算法分为基于划分、层次、密度、网络、统计学、模型等类型的算法。典型算法包括K均值、DBSCAN、两步聚类、BIRCH、谱聚类等。\n",
    "\n",
    "聚类分析能解决的问题包括：\n",
    "\n",
    "* 数据集可以分为几类\n",
    "* 每个类别有多少样本量\n",
    "* 不同类别中各个变量的强弱关系如何\n",
    "* 不同类别的典型特征是什么\n",
    "* 基于类别划分的其他应用\n",
    "\n",
    "但是聚类的缺点是无法提供明确的行动指向，更多的是为后期数据挖掘和分析提供预处理和参考，因此聚类无法真正解决问题。"
   ]
  },
  {
   "cell_type": "markdown",
   "metadata": {},
   "source": [
    "### 4.1.1 当心数据异常对聚类结果的影响\n",
    "\n",
    "K-均值是聚类中最常用的方法之一，它基于点与点之间距离的相似度来计算最佳类别归属，但是在应用它之前要注意两种数据异常：\n",
    "\n",
    "1. 数据的异常值：异常值可能会导致不同点之间的剧烈相似度放生改变，而且是隐蔽的；\n",
    "2. 数据的异常量纲：不同的维度与变量之间，如果存在数值规模或量纲差异，在进行距离计算之间一定要将变量归一化或者标准化。\n",
    "\n",
    "如果上述两个限制无法避免，可以尝试使用基于密度的聚类方法 --- DBSCAN。\n",
    "\n",
    "DBSCAM全程Density-Based Spatial Clustering of Applications with Noise, 基于密度的带有噪声的空间聚类。该方法的出发点是基于密度寻找被低密度区域划分的高密度空间，以此来实现不同数据样本的聚类。和K-均值相比，该方法的有点是：\n",
    "\n",
    "* 对原始数据集的分布规律无明显要求，能够适应任意数据集分布形状的空间聚类，因此数据集适用性更广，尤其是对非凸装、圆环形等异性簇分布的识别较好；\n",
    "* 无需指定聚类数量，对结果的先验要求不高；\n",
    "* 由于DNSCAN可区分核心对象、边界点和噪声点，因此对噪声的过滤效果好，能有效应对数据噪声。\n",
    "\n",
    "但是，该方法是直接对整个数据样本集进行操作且聚类时使用了一个全局性的表征密度的参数，因此存在如下弱点：\n",
    "\n",
    "* 对于高维问题，基于Eps（半径）、MinPts（密度）的定义是个大问题；\n",
    "* 当簇的密度变化太大时，聚类结果较差；\n",
    "* 当数据量较大时，要求较大的内存支持，I/O消耗也较大。"
   ]
  },
  {
   "cell_type": "markdown",
   "metadata": {},
   "source": [
    "### 4.1.2 超大数据量时应该放弃K-均值算法\n",
    "\n",
    "K-均值算法稳定、效率和准确率也表现很好，并且在应对大量数据时依然较好。其算法时间复杂度上界为`O(n*k*t)`，其中n是样本量、k是划分的聚类数、t是迭代次数。当聚类数和迭代数不变时，K-均值的算法消耗时间只跟样本量有关，呈现线性增长趋势。\n",
    "\n",
    "当需要处理超大数据量的时候用，可以使用MinBatchKMeans，一种加入了分批处理思想的K-均值计算法，对数据集进行分批处理，减少运行时间，但是会降低准确度的下降。"
   ]
  },
  {
   "cell_type": "markdown",
   "metadata": {},
   "source": [
    "### 4.1.3 聚类不仅是建模的重点，更是重要的中间预处理过程\n",
    "\n",
    "聚类分析的结果提供了样本集在非监督模式下的类别划分，不经可以做群类别间的差异特征分析、群类别内的关键特征提取、样本群划分等分析，还能用于数据预处理的中间过程。\n",
    "\n",
    "#### 1. 图像压缩\n",
    "\n",
    "图像压缩时用较少的数据量来表示原有的像素矩阵的过程，该过程称为图像编码，但是数字图像的数据量庞大，需要占用很大的存储空间，给存储、计算、传输等带来不小的资源消耗，因此会预先对数字图像进行压缩，压缩的方法之一就是聚类算法。\n",
    "\n",
    "#### 2. 图像分割\n",
    "\n",
    "图像分割就是将图像分成若干个特定的、具有独特性的区域并提出感兴趣的目标的技术和过程，分割后提取出的目标可以用于图像语义识别、图像搜索等领域。聚类是图像分割的方法之一。\n",
    "\n",
    "#### 3. 图像理解\n",
    "\n",
    "传统的图像理解大多借助于浅层的视觉特征，例如颜色、形状、纹理、轮廓等，而图像理解就是从图像中获取更加深层的信息，即包含图像中存在的对象以及对象间的空间关系，也包含对隐含在图像背后的概念和内容进行探究。图像理解中，比较常用的是基于区域的提取方法，即在图像分割和对象识别的前提下进行，利用对象模板、场景分类器等，通过识别对象以及对象之间的拓扑关系挖掘语义，生成对应的场景语义信息。\n",
    "\n",
    "#### 4. 异常检测\n",
    "\n",
    "聚类也是进行异常检测的方法之一，常用的便是基于距离的异常检测方法，该方法包含并拓展了基于统计的思想，即使数据集不满足任何特定分布模型，仍能有小弟发现离群点，特别是当空间维度数目较高时，算法的效率比基于密度的高很多。\n",
    "\n",
    "#### 5. 数据离散化\n",
    "\n",
    "聚类也可以进行数据离散化的处理。在第三章第10部分第3小节已经有介绍。\n"
   ]
  },
  {
   "cell_type": "markdown",
   "metadata": {},
   "source": [
    "### 4.1.4 高维数据上无法应用聚类吗\n",
    "\n",
    "在大数据背景下，数据获取难度和成本愈来愈低，很多高维数据场景下进行聚类时，传统的在低维空间通用的聚类方法，通常不能取得令人满意的聚类结果，主要表现在聚类计算耗时长、结果相对于真实标签分类的准确度和稳定性大大降低。\n",
    "\n",
    "主要的原因如下：\n",
    "\n",
    "* 在面对高维度数据时，基于距离的相似度计算效率极低；\n",
    "* 高维空间的大量属性特征是的在所有维度上存在簇的可能性非常低；\n",
    "* 由于稀疏性和近邻特性，基于距离的相似度几乎都为0，导致高维度空间中很难存在数据簇\n",
    "\n",
    "在应对高维度数据聚类问题时，可以使用下面2中方法解决：\n",
    "\n",
    "1. 降维：通过特征选择发或者维度转换法将高维空间降低到低维空间，直接解决高维度问题；\n",
    "2. 子空间聚类：在高维度空间中选取与给定簇密切相关的维度，然后在对应的子空间进行聚类。"
   ]
  },
  {
   "cell_type": "markdown",
   "metadata": {},
   "source": [
    "### 4.1.5 如何选择聚类分析算法\n",
    "\n",
    "在选择聚类算法的时候，可以参考如下因素：\n",
    "\n",
    "* 如果数据集是高维度的，那么选择谱聚类，是子空间划分的一种，但是操作难度较高；\n",
    "* 如果数据为中小规模，100万以内，那么K-均值将是比较好的选择，如果超过100万，可以考虑使用MiniBatchKMeans；\n",
    "* 如果数据中有噪点（离群点），使用基于密度的DBSCAN可以有效应对；\n",
    "* 如果追求更高的分类准确度，选择谱聚类法比K-均值更好。"
   ]
  },
  {
   "cell_type": "markdown",
   "metadata": {},
   "source": [
    "### 4.1.6 代码实操：Python聚类分析\n",
    "\n",
    "SKLean中有专门的聚类库：cluster，其包含了很多的聚类算法。\n",
    "\n",
    "本例将使用一份无标签的数据集做聚类分析，以得到不同类别的特征和分布状态等。"
   ]
  },
  {
   "cell_type": "code",
   "execution_count": 1,
   "metadata": {},
   "outputs": [],
   "source": [
    "# 导入库\n",
    "import numpy as np\n",
    "import matplotlib.pyplot as plt\n",
    "from sklearn.cluster import KMeans\n",
    "from sklearn import metrics"
   ]
  },
  {
   "cell_type": "code",
   "execution_count": 40,
   "metadata": {},
   "outputs": [
    {
     "data": {
      "text/plain": [
       "array([0.58057881, 0.43199283])"
      ]
     },
     "execution_count": 40,
     "metadata": {},
     "output_type": "execute_result"
    }
   ],
   "source": [
    "# 数据准备\n",
    "raw_data = np.loadtxt('cluster.txt')\n",
    "X = raw_data[:, :-1]\n",
    "y = raw_data[:, -1]\n",
    "\n",
    "X[0]"
   ]
  },
  {
   "cell_type": "code",
   "execution_count": 8,
   "metadata": {},
   "outputs": [
    {
     "data": {
      "text/plain": [
       "KMeans(algorithm='auto', copy_x=True, init='k-means++', max_iter=300,\n",
       "    n_clusters=3, n_init=10, n_jobs=1, precompute_distances='auto',\n",
       "    random_state=0, tol=0.0001, verbose=0)"
      ]
     },
     "execution_count": 8,
     "metadata": {},
     "output_type": "execute_result"
    }
   ],
   "source": [
    "# 训练聚类模型\n",
    "\n",
    "# 设置聚类数量\n",
    "n_cluster = 3\n",
    "# 建立聚类模型对象\n",
    "model_kmeans = KMeans(n_clusters=n_cluster, random_state=0)\n",
    "# 训练聚类模型\n",
    "model_kmeans.fit(X)\n",
    "# 预测聚类模型\n",
    "y_pred = model_kmeans.predict(X)\n",
    "\n",
    "model_kmeans"
   ]
  },
  {
   "cell_type": "code",
   "execution_count": 22,
   "metadata": {},
   "outputs": [],
   "source": [
    "# 模型效果指标评估\n",
    "\n",
    "# 总样本量、总特征数\n",
    "n_samples, n_features = X.shape\n",
    "# 样本距离最近的聚类中心的总和\n",
    "inertias = model_kmeans.inertia_\n",
    "# 调整后的兰德指数\n",
    "adjusted_rand_s = metrics.adjusted_rand_score(y, y_pred)\n",
    "# 互信息\n",
    "mutual_info_s = metrics.mutual_info_score(y, y_pred)\n",
    "# 调整后的互信息\n",
    "adjusted_mutual_info_s = metrics.adjusted_mutual_info_score(y, y_pred)\n",
    "\n",
    "# 同质化得分\n",
    "homogeneity_s = metrics.homogeneity_score(y, y_pred)\n",
    "# 完整性得分\n",
    "completeness_s = metrics.completeness_score(y, y_pred)\n",
    "# V_measure得分\n",
    "v_measure_s = metrics.v_measure_score(y, y_pred)\n",
    "# 平均轮廓系数\n",
    "silhouette_s = metrics.silhouette_score(X, y_pred, metric='euclidean')\n",
    "# Calinski和Harabaz得分\n",
    "calinski_harabaz_s = metrics.calinski_harabaz_score(X, y_pred)"
   ]
  },
  {
   "cell_type": "code",
   "execution_count": 23,
   "metadata": {},
   "outputs": [
    {
     "name": "stdout",
     "output_type": "stream",
     "text": [
      "samples: 1000 \t features: 2\n",
      "----------------------------------------------------------------------\n",
      "ine\tARI\tMI\tAMI\thomo\tcomp\tv_m\tsilh\tc&h\n",
      "300\t0.96\t1.03\t0.94\t0.94\t0.94\t0.94\t0.63\t2860\n",
      "----------------------------------------------------------------------\n",
      "short name \t full name\n",
      "ine \t inertias\n",
      "ARI \t adjusted_rand_s\n",
      "MI \t mutual_info_s\n",
      "AMI \t adjusted_mutual_info_s\n",
      "homo \t homogeneity_s\n",
      "comp \t completeness_s\n",
      "v_m \t v_measure_s\n",
      "silh \t silhouette_s\n",
      "c&h \t calinski_harabaz_s\n"
     ]
    }
   ],
   "source": [
    "print ('samples: %d \\t features: %d' % (n_samples, n_features))  # 打印输出样本量和特征数量\n",
    "print (70 * '-')  # 打印分隔线\n",
    "print ('ine\\tARI\\tMI\\tAMI\\thomo\\tcomp\\tv_m\\tsilh\\tc&h')  # 打印输出指标标题\n",
    "print ('%d\\t%.2f\\t%.2f\\t%.2f\\t%.2f\\t%.2f\\t%.2f\\t%.2f\\t%d' % (\n",
    "inertias, adjusted_rand_s, mutual_info_s, adjusted_mutual_info_s, homogeneity_s, completeness_s, v_measure_s,\n",
    "silhouette_s, calinski_harabaz_s))  # 打印输出指标值\n",
    "print (70 * '-')  # 打印分隔线\n",
    "\n",
    "\n",
    "print ('short name \\t full name')  # 打印输出缩写和全名标题\n",
    "print ('ine \\t inertias')\n",
    "print ('ARI \\t adjusted_rand_s')\n",
    "print ('MI \\t mutual_info_s')\n",
    "print ('AMI \\t adjusted_mutual_info_s')\n",
    "print ('homo \\t homogeneity_s')\n",
    "print ('comp \\t completeness_s')\n",
    "print ('v_m \\t v_measure_s')\n",
    "print ('silh \\t silhouette_s')\n",
    "print ('c&h \\t calinski_harabaz_s')"
   ]
  },
  {
   "cell_type": "markdown",
   "metadata": {},
   "source": [
    "聚类算法的评级指标：[Evaluation of Clustering](https://nlp.stanford.edu/IR-book/html/htmledition/evaluation-of-clustering-1.html)"
   ]
  },
  {
   "cell_type": "code",
   "execution_count": 26,
   "metadata": {},
   "outputs": [
    {
     "data": {
      "image/png": "[encoded data removed]",
      "text/plain": [
       "<Figure size 432x288 with 1 Axes>"
      ]
     },
     "metadata": {},
     "output_type": "display_data"
    }
   ],
   "source": [
    "# 模型效果可视化\n",
    "\n",
    "# 各类别中心\n",
    "centers = model_kmeans.cluster_centers_\n",
    "# 设置不同类别的颜色\n",
    "colors = ['#4EACC5', '#FF9C34', '#4E9A06']\n",
    "# 建立画布\n",
    "plt.figure()\n",
    "# 循环读取类别\n",
    "for i in range(n_cluster):\n",
    "    # 找到相同类别的索引集合\n",
    "    index_sets = np.where(y_pred == i)\n",
    "    # 将相同类别的数据划分为一个聚类子集\n",
    "    cluster = X[index_sets]\n",
    "    # 展示聚类子集内的样本\n",
    "    plt.scatter(cluster[:, 0], cluster[:, 1], c=colors[i], marker='.')\n",
    "    # 展示聚类子集的中心\n",
    "    plt.plot(centers[i][0], centers[i][1], 'o', markerfacecolor = colors[i])\n",
    "plt.show()"
   ]
  },
  {
   "cell_type": "code",
   "execution_count": 42,
   "metadata": {},
   "outputs": [
    {
     "name": "stdout",
     "output_type": "stream",
     "text": [
      "cluster of new data point is: 1\n"
     ]
    }
   ],
   "source": [
    "# 模型应用\n",
    "new_X = np.array([[1, 3.6]])\n",
    "cluster_label = model_kmeans.predict(new_X)\n",
    "print('cluster of new data point is: %d' % cluster_label)"
   ]
  },
  {
   "cell_type": "markdown",
   "metadata": {},
   "source": [
    "对于聚类模型结果的评估，主要考虑如下三个方面：\n",
    "\n",
    "1. 对于没有任何聚类真实结果指标的，由于无法使用真实数据做对比，智能使用聚类距离指标做评估；\n",
    "2. 对于有分类真实结果做对照的，则可以使用真实标签与预测标签的相似、重复、完整性等度量计算，但是需要注意的是，聚类结果的标签值与其真实类别的标签值没有关系，结果只关注数据点是否属于同一类；\n",
    "3. 业务类的评估，包括不同类别间的特征是否有显著差异，类内部是否具有能代表类别的显著性特征。"
   ]
  },
  {
   "cell_type": "markdown",
   "metadata": {},
   "source": [
    "## 4.2 回归分析\n",
    "\n",
    "回归是一种研究自变量x对因变量y影响的数据分析方法，最简单的回归模型是一元线性回归，可以表示为 `Y = β0 + β1 * x + ε`，Y为因变量，x为自变量，β1为影响系数，β0为截距，ε为随机误差因子。\n",
    "\n",
    "常用的回归算法包括线性回归、二项式回归、对数回归、指数回归、核SVM、岭回归、Lasso等。\n",
    "\n",
    "回归的优点是数据模式和结果便于理解；在基于函数公式的业务应用中，可直接使用代入法求解。\n",
    "回归的缺点是只能分析少量变量之间的相互关系，无法处理海量变量间的相互作用关系。"
   ]
  },
  {
   "cell_type": "markdown",
   "metadata": {},
   "source": [
    "### 4.2.1 注意回归自变量之间的共线性问题\n",
    "\n",
    "在应用回归模型时，应注意识别和解决自变量间的共线性问题。在第三章第7节已有介绍。"
   ]
  },
  {
   "cell_type": "markdown",
   "metadata": {},
   "source": [
    "### 4.2.2 相关系数、判定系数和回归系数之间的关系\n",
    "\n",
    "例：y = 42.738x + 169.94，其中R² = 0.5252，对两个变量进行相关性分析，得到相关系数R = 0.7246。其中42.738是自变量x的回归系数，0.5252是该方程的判定系数，0.7246是两个变量之间的相关性系数。\n",
    "\n",
    "* 回归系数：在回归方程中表示自变量x对因变量y影响大小的参数，其绝对值的高低智能说明自变量和因变量之间的联系程度和变化量的比例；\n",
    "* 判定系数：是自变量对因变量的方差解释程度的值，计算公式为：回归平方和与总离差平方和之比值；\n",
    "* 相关系数：也称为解释系数，是衡量变量之间的相关程度或者密切程度的值，其本质是线性相关性的判断。\n",
    "\n",
    "三者的相互关系：\n",
    "\n",
    "* 判定系数是所有参与模型与模型中自变量的对因变量联合影响程度，而非某个自变量的影响程度。\n",
    "\n",
    "回归系数与相关系数的关系：回归系数 > 0，相关系数取值在(0, 1]，说明二者正相关，如果系数小于0，相关系数取值在(-1, 0)，说明二者负相关。"
   ]
  },
  {
   "cell_type": "markdown",
   "metadata": {},
   "source": [
    "### 4.2.3 判定系数是否意味着相应的因果关系\n",
    "\n",
    "相关性和因果并不是一回事，相应的判定系数和因果也不是一回事。以一元线性回归方程为例：\n",
    "\n",
    "* 判定系数是相关系数的平方，相关系数不是因果，但是其平方后就能成为因果。（为什么？）\n",
    "* 判定系数的出发点是用来评估整个模型的拟合优度，就是自变量引起的变动占总变动的百分比。但是如果两者有相同的变动趋势，也不意味着因果关系。"
   ]
  },
  {
   "cell_type": "markdown",
   "metadata": {},
   "source": [
    "### 4.2.4 注意应用回归模型时研究自变量是否产生变化\n",
    "\n",
    "在应用回归模型预测时，必须研究对因变量产生影响的自变量是否产生变化，主要考察两个方面：\n",
    "\n",
    "1. 是否有产生了新的对因变量影响更大的自变量\n",
    "2. 原有自变量是否依然控制在训练模型时的范围之内"
   ]
  },
  {
   "cell_type": "markdown",
   "metadata": {},
   "source": [
    "### 4.2.5 如何选择回归分析算法\n",
    "\n",
    "回归算法按照自变量的个数分为一元回归和多元回归，按照影响是否线性分为线性回归和非线性回归。在面对不同回归方法的选择，需要参考如下因素：\n",
    "\n",
    "* 入门的开始 --- 简单线性回归。如果以学习为主，不需要选择多么强大的模型，基于最小二乘法的普通线性回归最为合适，同时，适合数据集本身结构简单，分布规律有明显线性关系的场景；\n",
    "* 如果自变量数量小或者经过降维后得到了可以使用的二维变量，那么可以直接通过散点图发现自变量和因变量的相关关系，然后选择最佳回归方法；\n",
    "* 如果经过基本判断发现自变量之间有较强的共线性关系，那么可以使用对多重共线性能灵活处理的算法，例如岭回归；\n",
    "* 如果数据集噪声较多，推荐使用主成分回归，主成分分析通过对参与回归的主成分合理选择，可以去噪；\n",
    "* 如果在高维度变量下，使用正则化回顾方法效果较好或者使用逐步回归从中挑选影响显著的自变量来建立回归模型；\n",
    "* 如果要同时验证多个算法，并想从中选择一个来做好的拟合，使用交叉验证做多个模型的效果对比，并通过R-square、Adjusted R-square、AIC、BIC以及各种残差、误差项指标做综合评估；\n",
    "* 如果注重模型的可解释型，那么容易理解的线性回归、指数回归、对数回归、二项式或多项式回归要比核回归、支持向量回归机更适合；\n",
    "* 集成或组合回归方法。一单确认了几个方法，但又不确定如何取舍时，可以将多个回归模型做成集成或组合方法使用，即同时将多个模型的结果通过加权、均值等方式确定最终输出结果值。"
   ]
  },
  {
   "cell_type": "markdown",
   "metadata": {},
   "source": [
    "### 4.2.6 代码实操：Python回归分析\n",
    "\n",
    "本实操是针对一批训练集做多个回归模型训练和评估，从中选择效果较好的模型并对新数据集做回归预测。"
   ]
  },
  {
   "cell_type": "code",
   "execution_count": 46,
   "metadata": {},
   "outputs": [],
   "source": [
    "# 导入库\n",
    "import numpy as np\n",
    "# 导入要实现的回归算法\n",
    "from sklearn.linear_model import BayesianRidge, LinearRegression, ElasticNet\n",
    "# SVM中的回归算法\n",
    "from sklearn.svm import SVR\n",
    "# 集成算法\n",
    "from sklearn.ensemble.gradient_boosting import  GradientBoostingRegressor\n",
    "# 交叉验证\n",
    "from sklearn.model_selection import cross_val_score\n",
    "# 导入指标算法\n",
    "from sklearn.metrics import explained_variance_score, mean_absolute_error, mean_squared_error, r2_score\n",
    "\n",
    "import pandas as pd\n",
    "import matplotlib.pyplot as plt"
   ]
  },
  {
   "cell_type": "code",
   "execution_count": 47,
   "metadata": {},
   "outputs": [
    {
     "data": {
      "text/plain": [
       "(506, 13)"
      ]
     },
     "execution_count": 47,
     "metadata": {},
     "output_type": "execute_result"
    }
   ],
   "source": [
    "# 数据准备\n",
    "raw_data = np.loadtxt('regression.txt')\n",
    "X = raw_data[:, :-1]\n",
    "y = raw_data[:, -1]\n",
    "\n",
    "X.shape"
   ]
  },
  {
   "cell_type": "code",
   "execution_count": 51,
   "metadata": {},
   "outputs": [],
   "source": [
    "# 训练回归模型\n",
    "\n",
    "# 设置交叉验证次数\n",
    "n_folds = 6\n",
    "# 建立贝叶斯回归模型对象\n",
    "model_br = BayesianRidge()\n",
    "# 建立普通线性回归模型对象\n",
    "model_lr = LinearRegression()\n",
    "# 建立弹性网络回归模型对象\n",
    "model_etc = ElasticNet()\n",
    "# 建立支持向量机回归模型对象\n",
    "model_svr = SVR()\n",
    "# 建立梯度增强回归模型对象\n",
    "model_gbr = GradientBoostingRegressor()\n",
    "\n",
    "# 不同模型的名称列表\n",
    "model_names = ['BayesuabRidge', 'LinearRegression', 'ElasticNet', 'SVR', 'GBR']\n",
    "# 不同回归模型对象组合\n",
    "model_dic = [model_br, model_lr, model_etc, model_svr, model_gbr]\n",
    "# 交叉验证结果列表\n",
    "cv_score_list = []\n",
    "# 各个回归模型预测的y值列表\n",
    "pred_y_list = []\n",
    "\n",
    "#读取每个回归模型\n",
    "for model in model_dic:\n",
    "    # 将每个回归模型导入交叉验证模型中做训练检验\n",
    "    scores = cross_val_score(model, X, y, cv = n_folds)\n",
    "    # 将交叉验证结果存储结果列表\n",
    "    cv_score_list.append(scores)\n",
    "    # 将回归训练中得到的预测y存储列表\n",
    "    pred_y_list.append(model.fit(X, y).predict(X))\n",
    "    \n",
    "# 模型效果指标评估\n",
    "\n",
    "# 总样本量、总特征数\n",
    "n_samples, n_features = X.shape\n",
    "# 回归评估指标对象集\n",
    "mdoel_metrics_name = [explained_variance_score, mean_absolute_error, mean_squared_error, r2_score]\n",
    "# 回归评估指标列表\n",
    "model_metrics_list = []\n",
    "\n",
    "# 循环每个模型索引\n",
    "for i in range(5):\n",
    "    # 每个内循环的临时结果列表\n",
    "    tmp_list = []\n",
    "    # 循环每个指标对象\n",
    "    for m in mdoel_metrics_name:\n",
    "        # 计算每个回归指标结果\n",
    "        tmp_score = m(y, pred_y_list[i])\n",
    "        # 将结果存储每个内循环的临时结果列表\n",
    "        tmp_list.append(tmp_score)\n",
    "    # 将结果存储回归评估指标列表\n",
    "    model_metrics_list.append(tmp_list)\n",
    "\n",
    "df1 = pd.DataFrame(cv_score_list, index=model_names)\n",
    "df2 = pd.DataFrame(model_metrics_list, index=model_names, columns=['ev', 'mae', 'mse', 'r2'])"
   ]
  },
  {
   "cell_type": "code",
   "execution_count": 52,
   "metadata": {},
   "outputs": [
    {
     "name": "stdout",
     "output_type": "stream",
     "text": [
      "samples: 506 \t features: 13\n",
      "----------------------------------------------------------------------\n",
      "cross validation result:\n",
      "                         0         1         2         3         4         5\n",
      "BayesuabRidge     0.662422  0.677079  0.549702  0.776896 -0.139738 -0.024448\n",
      "LinearRegression  0.642240  0.611521  0.514471  0.785033 -0.143673 -0.015390\n",
      "ElasticNet        0.582476  0.603773  0.365912  0.625645  0.437122  0.200454\n",
      "SVR              -0.000799 -0.004447 -1.224386 -0.663773 -0.122252 -1.374062\n",
      "GBR               0.751185  0.774480  0.767391  0.861102  0.373970  0.558588\n",
      "----------------------------------------------------------------------\n",
      "regression metrics:\n",
      "                        ev       mas        mse        r2\n",
      "BayesuabRidge     0.731143  3.319204  22.696772  0.731143\n",
      "LinearRegression  0.740608  3.272945  21.897779  0.740608\n",
      "ElasticNet        0.686094  3.592915  26.499828  0.686094\n",
      "SVR               0.173548  5.447960  71.637552  0.151410\n",
      "GBR               0.975126  1.151773   2.099835  0.975126\n",
      "----------------------------------------------------------------------\n",
      "short name \t full name\n",
      "ev \t explained_variance\n",
      "mae \t mean_absolute_error\n",
      "mse \t mean_squared_error\n",
      "r2 \t r2\n",
      "----------------------------------------------------------------------\n"
     ]
    }
   ],
   "source": [
    "print ('samples: %d \\t features: %d' % (n_samples, n_features))  # 打印输出样本量和特征数量\n",
    "print (70 * '-')  # 打印分隔线\n",
    "print ('cross validation result:')  # 打印输出标题\n",
    "print (df1)  # 打印输出交叉检验的数据框\n",
    "print (70 * '-')  # 打印分隔线\n",
    "print ('regression metrics:')  # 打印输出标题\n",
    "print (df2)  # 打印输出回归指标的数据框\n",
    "print (70 * '-')  # 打印分隔线\n",
    "print ('short name \\t full name')  # 打印输出缩写和全名标题\n",
    "print ('ev \\t explained_variance')\n",
    "print ('mae \\t mean_absolute_error')\n",
    "print ('mse \\t mean_squared_error')\n",
    "print ('r2 \\t r2')\n",
    "print (70 * '-')  # 打印分隔线"
   ]
  },
  {
   "cell_type": "markdown",
   "metadata": {},
   "source": [
    "* **explained_variance**： 解释回归模型的方差得分，取值范围[0，1]，值越小效果越差；\n",
    "* **mean_absolute_error**：平均绝对误差（Mean Absolute Error, MAE）, 评估预测结果和真实结果接近程度，值越小拟合效果越好；\n",
    "* **mean_squared_error**：均方差（Mean Squared Error， MSE），拟合数据和原始数据对应样本点的误差的平方和和均值，值越小效果越好；\n",
    "* **r2-score**：判定系数，值越小效果越差"
   ]
  },
  {
   "cell_type": "code",
   "execution_count": 54,
   "metadata": {},
   "outputs": [
    {
     "data": {
      "image/png": "[encoded data removed]",
      "text/plain": [
       "<Figure size 432x288 with 1 Axes>"
      ]
     },
     "metadata": {},
     "output_type": "display_data"
    }
   ],
   "source": [
    "# 模型效果可视化\n",
    "plt.figure()  # 创建画布\n",
    "plt.plot(np.arange(X.shape[0]), y, color='k', label='true y')  # 画出原始值的曲线\n",
    "color_list = ['r', 'b', 'g', 'y', 'c']  # 颜色列表\n",
    "linestyle_list = ['-', '.', 'o', 'v', '*']  # 样式列表\n",
    "for i, pre_y in enumerate(pred_y_list):  # 读出通过回归模型预测得到的索引及结果\n",
    "    plt.plot(np.arange(X.shape[0]), pred_y_list[i], color_list[i], label=model_names[i])  # 画出每条预测结果线\n",
    "plt.title('regression result comparison')  # 标题\n",
    "plt.legend(loc='upper right')  # 图例位置\n",
    "plt.ylabel('real and predicted value')  # y轴标题\n",
    "plt.show()  # 展示图像"
   ]
  },
  {
   "cell_type": "code",
   "execution_count": 55,
   "metadata": {},
   "outputs": [
    {
     "name": "stdout",
     "output_type": "stream",
     "text": [
      "regression prediction\n",
      "predict for new point 1 is:  21.49\n",
      "predict for new point 2 is:  16.84\n",
      "predict for new point 3 is:  19.50\n",
      "predict for new point 4 is:  19.16\n"
     ]
    }
   ],
   "source": [
    "# 模型应用\n",
    "print ('regression prediction')\n",
    "new_point_set = [[1.05393, 0., 8.14, 0., 0.538, 5.935, 29.3, 4.4986, 4., 307., 21., 386.85, 6.58],\n",
    "                 [0.7842, 0., 8.14, 0., 0.538, 5.99, 81.7, 4.2579, 4., 307., 21., 386.75, 14.67],\n",
    "                 [0.80271, 0., 8.14, 0., 0.538, 5.456, 36.6, 3.7965, 4., 307., 21., 288.99, 11.69],\n",
    "                 [0.7258, 0., 8.14, 0., 0.538, 5.727, 69.5, 3.7965, 4., 307., 21., 390.95, 11.28]]  # 要预测的新数据集\n",
    "for i, new_point in enumerate(new_point_set):  # 循环读出每个要预测的数据点\n",
    "    new_pre_y = model_gbr.predict(np.array(new_point).reshape(1,-1))  # 使用GBR进行预测\n",
    "    print ('predict for new point %d is:  %.2f' % (i + 1, new_pre_y))  # 打印输出每个数据点的预测信息"
   ]
  },
  {
   "cell_type": "markdown",
   "metadata": {},
   "source": [
    "## 4.3 分类分析\n",
    "\n",
    "分类算法是通过对已知类别训练集的计算和分析，从中发现类别规则并预测新数据的类别，是解决分类问题的方法，是数据挖掘、机器学习和模式识别中一个重要的研究领域。\n",
    "\n",
    "常用的分类算法包括朴素贝叶斯、逻辑回归、决策树、随机森林、支持向量机等。\n",
    "\n",
    "分类的主要用途和场景是“预测”，基于已有的样本预测新样本的所属类别；也可以用于知识抽取，通过模型找到潜在的规律，帮助业务得到可执行的规则。"
   ]
  },
  {
   "cell_type": "markdown",
   "metadata": {},
   "source": [
    "### 4.3.1 防止分类模型的过拟合问题\n",
    "\n",
    "过拟合就是在做分类训练时模型由于过度学习了训练集的特征，使得训练集的准确率非常高，但将模型应用到新的数据集时准确率却很差。因此防止过拟合是分类问题的一个重要任务。在分类算法中，尤其决策树容易出现过拟合的问题，可以使用如下的途径来避免过拟合问题：\n",
    "\n",
    "* 使用更多的数据：导致过拟合的根本原因是训练集和新数据集的特征存在较大差异，导致原本完美拟合的模型无法对新数据集产生良好效果，通过增加数据集，可能会增加训练集和新数据集的特征相似度，从而降低过拟合的风险；\n",
    "* 数据降维：通过降维选择或转换的方式，降低参与分类模型的维度数量，防止原有数据集中的“噪声”对模型的影响；\n",
    "* 使用正则化方法：通过定义不同特征的参数来保证每个特征由一定的效用，不会是某一特征特别重要；\n",
    "* 使用组合方法：例如随机森林、adaboost不容易产生过拟合的问题。"
   ]
  },
  {
   "cell_type": "markdown",
   "metadata": {},
   "source": [
    "### 4.3.2 使用关联算法做分类分析\n",
    "\n",
    "在关联算法中，会得到不同的关联规则，或称为频繁规则，这种模式一般用来做关联模式挖掘，转换思路后也可以用做分类分析。\n",
    "\n",
    "使用关联逻辑并结合支持度、置信度和提升度可以找到分类信息，实现思路如下：\n",
    "\n",
    "* 从数据集中选择属性特征+目标（可能是商品、广告、内容等），使用关联规则得到频繁项集，频繁项集的前、后项分别是属性（可以是单个或多个属性）和目标；\n",
    "* 从得到的频繁集中，根据支持度、置信度、提升度定义出具有显著性的规则，例如置信度大于75%，支持度大于45%，提升度大于1等；\n",
    "* 基于提取出来的前后项规则梳理出可用于分类规则以及对应的目标信息，该目标可以是多分类的"
   ]
  },
  {
   "cell_type": "markdown",
   "metadata": {},
   "source": [
    "### 4.3.3 用分类分析来提炼规则、提取变量、处理缺失值\n",
    "\n",
    "**1. 分类分析用于提炼应用规则**\n",
    "\n",
    "预测是分类任务的主要应用方向，但将分类用于提炼应用规则，为数据化运营提供规则支持也是其重点应用之一，这种应用相对于其他算法更加具有落地的价值。常见的应用场景包括：\n",
    "\n",
    "* 要针对沉默会员做会员重新激活，应该挑选具有什么特征的会员？\n",
    "* 商品A库存积压严重，现在要通过促销活动清仓，选择哪些类型的促销活动更容易实现该目标？\n",
    "* 网站需要大流量广告位来满足VIP商家的精准广告投放，具有哪些特征的广告位更符合VIP商家的客户需求？\n",
    "\n",
    "从分类算法中提炼特征规则，利用的是在构建算法过程中的分类规则。例如决策树算法，分裂节点是表示局部最优值的显著性特征值，每个节点下的特征变量以及对应的值的组合即构成了规则。\n",
    "\n",
    "**2. 分类分析用于提取变量特征**\n",
    "\n",
    "从大量的输入变量中获得变量的重要性特征，然后提取权重较高的几个特征是分类分析的重点应用之一，此类方式也是数据归约和数据降维的重要方式。思路是：获取原始数据集并对数据进行预处理，将预处理的数据集放到分类算法中进行训练，然后从算法模型中提取特征权重信息。\n",
    "\n",
    "**3. 分类分析用于处理缺失值**\n",
    "\n",
    "前面已经了解到补全缺失值的方法之一就是模型法，基于现有的其他字段，将缺失字段作为目标变量进行预测，从而得到较为可能的补全值，如果缺失值是分类变量，则使用分类模型补全。"
   ]
  },
  {
   "cell_type": "markdown",
   "metadata": {},
   "source": [
    "### 4.3.4 类别划分---分类算法和聚类算法都是好手\n",
    "\n",
    "聚类和分类的区别：\n",
    "\n",
    "1. 学习方式不同：聚类时一种非监督式学习算法，而分类是监督式学习算法；\n",
    "2. 对源数据集要求不同：聚类不要求源数据集有预先定义的标签，而分类需要标签作为监督学习的“标准”或“参照”用来训练模型；\n",
    "3. 应用场景不同：聚类一般应用于做数据探索性分析、数据降维、数据压缩等探索性、过程性分析和处理，而分类更多用于预测性分析和使用；\n",
    "4. 解读结果不同：聚类算法的结果是将不同的数据集按照各自的典型特征分成不同类别，不同人对聚类的结果解读可能不同，而分类的结果却是一个固定值，不存在不同解读的情况；\n",
    "5. 模型评估指标不同：聚类分析没有所谓的“准确”与否，以及如何准确的相关度量，更多的是基于距离的度量，如果是对带有标签的数据集做聚类则可以做相似度，完整度等方面的评估，而分类模型的指标例如准确率、混淆矩阵、提升率等都有明显的好坏、提升程度等评估指标。"
   ]
  },
  {
   "cell_type": "markdown",
   "metadata": {},
   "source": [
    "### 4.3.5 如何选择分类分析算法\n",
    "\n",
    "如何根据不同场景选择最合适的分类算法？\n",
    "\n",
    "* 文本分类时，用到最多的是朴素贝叶斯；\n",
    "* 如果训练集比较小，选择高偏差且低方差的分类算法效果更好，例如朴素贝叶斯、支持向量机等；\n",
    "* 如果训练集比较大，那么不管选择哪种方法，都不会显著影响分类准确度；\n",
    "* 如果关注的是算法模型的计算时间和模型易用性，那么选择支持向量机、人工神经网络不是好的选择；\n",
    "* 如果重视算法的准确率，那么选择算法精度较高的方法，例如随机森林、支持向量机等；\n",
    "* 如果想得到有关预测结果的概率信息，然后基于预测概率做进一步应用，使用逻辑回归是比较好的选择；\n",
    "* 如果担心离群点或数据不可分，并且需要清晰地决策规则，那么选择决策树。"
   ]
  },
  {
   "cell_type": "markdown",
   "metadata": {},
   "source": [
    "### 4.3.6 代码实操：Python分类分析\n",
    "\n",
    "这里使用了prettytable和pydotplus图像和表格展示库以及配合pydotplus的GraphViz程序。安装方法如下：\n",
    "\n",
    "```shell\n",
    "pip install -U prettytable\n",
    "pip install -U prdotplus\n",
    "```\n",
    "\n",
    "Mac下安装GraphViz程序可使用HomeBrew直接安装：\n",
    "\n",
    "```shell\n",
    "brew install graphviz\n",
    "```"
   ]
  },
  {
   "cell_type": "code",
   "execution_count": 57,
   "metadata": {},
   "outputs": [],
   "source": [
    "# 导入库\n",
    "import numpy as np\n",
    "# 数据分区库\n",
    "from sklearn.model_selection import train_test_split\n",
    "# 导入决策树库\n",
    "from sklearn import tree\n",
    "# 导入指标库\n",
    "from sklearn.metrics import accuracy_score, auc, confusion_matrix, f1_score, precision_score, recall_score, roc_curve\n",
    "# 导入表格库\n",
    "import prettytable\n",
    "# 导入dot插件库\n",
    "import pydotplus\n",
    "# 导入图形展示库\n",
    "import matplotlib.pyplot as plt"
   ]
  },
  {
   "cell_type": "code",
   "execution_count": 59,
   "metadata": {},
   "outputs": [
    {
     "data": {
      "text/plain": [
       "(21927, 4)"
      ]
     },
     "execution_count": 59,
     "metadata": {},
     "output_type": "execute_result"
    }
   ],
   "source": [
    "# 数据准备\n",
    "raw_data = np.loadtxt('classification.csv', delimiter=',', skiprows=1)\n",
    "X = raw_data[:, :-1]\n",
    "y = raw_data[:, -1]\n",
    "\n",
    "X.shape"
   ]
  },
  {
   "cell_type": "code",
   "execution_count": 63,
   "metadata": {},
   "outputs": [
    {
     "data": {
      "text/plain": [
       "(15348, 4)"
      ]
     },
     "execution_count": 63,
     "metadata": {},
     "output_type": "execute_result"
    }
   ],
   "source": [
    "# 将数据集分割为训练集和测试集\n",
    "X_train, X_test, y_train, y_test = train_test_split(X, y, test_size = .3, random_state = 0)\n",
    "X_train.shape\n",
    "# y_train.shape"
   ]
  },
  {
   "cell_type": "code",
   "execution_count": 64,
   "metadata": {},
   "outputs": [
    {
     "data": {
      "text/plain": [
       "DecisionTreeClassifier(class_weight=None, criterion='gini', max_depth=None,\n",
       "            max_features=None, max_leaf_nodes=None,\n",
       "            min_impurity_decrease=0.0, min_impurity_split=None,\n",
       "            min_samples_leaf=1, min_samples_split=2,\n",
       "            min_weight_fraction_leaf=0.0, presort=False, random_state=0,\n",
       "            splitter='best')"
      ]
     },
     "execution_count": 64,
     "metadata": {},
     "output_type": "execute_result"
    }
   ],
   "source": [
    "# 训练分类模型\n",
    "\n",
    "# 建立决策树模型对象\n",
    "model_tree = tree.DecisionTreeClassifier(random_state=0)\n",
    "# 训练决策树模型\n",
    "model_tree.fit(X_train, y_train)\n",
    "model_tree"
   ]
  },
  {
   "cell_type": "code",
   "execution_count": 66,
   "metadata": {},
   "outputs": [],
   "source": [
    "# 使用模型对测试机进行预测\n",
    "pred_y = model_tree.predict(X_test)"
   ]
  },
  {
   "cell_type": "code",
   "execution_count": 67,
   "metadata": {},
   "outputs": [
    {
     "name": "stdout",
     "output_type": "stream",
     "text": [
      "samples: 21927 \t features: 4\n",
      "----------------------------------------------------------------------\n"
     ]
    }
   ],
   "source": [
    "# 输出模型概况\n",
    "n_samples, n_features = X.shape  # 总样本量,总特征数\n",
    "print ('samples: %d \\t features: %d' % (n_samples, n_features))  # 打印输出样本量和特征数量\n",
    "print (70 * '-')  # 打印分隔线"
   ]
  },
  {
   "cell_type": "code",
   "execution_count": 68,
   "metadata": {},
   "outputs": [
    {
     "name": "stdout",
     "output_type": "stream",
     "text": [
      "confusion matrix\n",
      "+---------+---------+\n",
      "| Field 1 | Field 2 |\n",
      "+---------+---------+\n",
      "|   5617  |   282   |\n",
      "|   321   |   359   |\n",
      "+---------+---------+\n"
     ]
    }
   ],
   "source": [
    "# 混淆矩阵\n",
    "confusion_m = confusion_matrix(y_test, pred_y)\n",
    "confusion_matrix_table = prettytable.PrettyTable()\n",
    "confusion_matrix_table.add_row(confusion_m[0, :])\n",
    "confusion_matrix_table.add_row(confusion_m[1, :])\n",
    "print('confusion matrix')\n",
    "print(confusion_matrix_table)"
   ]
  },
  {
   "cell_type": "code",
   "execution_count": 70,
   "metadata": {},
   "outputs": [
    {
     "name": "stdout",
     "output_type": "stream",
     "text": [
      "core metrics\n",
      "+--------------------+-------------------+--------------------+--------------------+--------------------+\n",
      "|        auc         |      accuracy     |     precision      |       recall       |         f1         |\n",
      "+--------------------+-------------------+--------------------+--------------------+--------------------+\n",
      "| 0.7500443744203904 | 0.908344733242134 | 0.5600624024960998 | 0.5279411764705882 | 0.5435276305828918 |\n",
      "+--------------------+-------------------+--------------------+--------------------+--------------------+\n"
     ]
    }
   ],
   "source": [
    "# 核心评估指标\n",
    "y_score = model_tree.predict_proba(X_test)  # 获得决策树的预测概率\n",
    "fpr, tpr, thresholds = roc_curve(y_test, y_score[:, 1])  # ROC\n",
    "auc_s = auc(fpr, tpr)  # AUC\n",
    "accuracy_s = accuracy_score(y_test, pred_y)  # 准确率\n",
    "precision_s = precision_score(y_test, pred_y)  # 精确度\n",
    "recall_s = recall_score(y_test, pred_y)  # 召回率\n",
    "f1_s = f1_score(y_test, pred_y)  # F1得分\n",
    "core_metrics = prettytable.PrettyTable()  # 创建表格实例\n",
    "core_metrics.field_names = ['auc', 'accuracy', 'precision', 'recall', 'f1']  # 定义表格列名\n",
    "core_metrics.add_row([auc_s, accuracy_s, precision_s, recall_s, f1_s])  # 增加数据\n",
    "print ('core metrics')\n",
    "print (core_metrics)  # 打印输出核心评估指标"
   ]
  },
  {
   "cell_type": "code",
   "execution_count": 71,
   "metadata": {},
   "outputs": [
    {
     "data": {
      "image/png": "[encoded data removed]",
      "text/plain": [
       "<Figure size 432x288 with 2 Axes>"
      ]
     },
     "metadata": {},
     "output_type": "display_data"
    }
   ],
   "source": [
    "# 模型效果可视化\n",
    "names_list = ['age', 'gender', 'income', 'rfm_score']  # 分类模型维度列表\n",
    "color_list = ['r', 'c', 'b', 'g']  # 颜色列表\n",
    "plt.figure()  # 创建画布\n",
    "# 子网格1：ROC曲线\n",
    "plt.subplot(1, 2, 1)  # 第一个子网格\n",
    "plt.plot(fpr, tpr, label='ROC')  # 画出ROC曲线\n",
    "plt.plot([0, 1], [0, 1], linestyle='--', color='k', label='random chance')  # 画出随机状态下的准确率线\n",
    "plt.title('ROC')  # 子网格标题\n",
    "plt.xlabel('false positive rate')  # X轴标题\n",
    "plt.ylabel('true positive rate')  # y轴标题\n",
    "plt.legend(loc=0)\n",
    "# 子网格2：指标重要性\n",
    "feature_importance = model_tree.feature_importances_  # 获得指标重要性\n",
    "plt.subplot(1, 2, 2)  # 第二个子网格\n",
    "plt.bar(np.arange(feature_importance.shape[0]), feature_importance, tick_label=names_list, color=color_list)  # 画出条形图\n",
    "plt.title('feature importance')  # 子网格标题\n",
    "plt.xlabel('features')  # x轴标题\n",
    "plt.ylabel('importance')  # y轴标题\n",
    "plt.suptitle('classification result')  # 图形总标题\n",
    "plt.show()  # 展示图形"
   ]
  },
  {
   "cell_type": "code",
   "execution_count": 73,
   "metadata": {},
   "outputs": [
    {
     "data": {
      "text/plain": [
       "True"
      ]
     },
     "execution_count": 73,
     "metadata": {},
     "output_type": "execute_result"
    }
   ],
   "source": [
    "# 保存决策树规则图为PDF文件\n",
    "dot_data = tree.export_graphviz(model_tree, out_file=None, max_depth=5, feature_names=names_list, filled=True,\n",
    "                                rounded=True)  # 将决策树规则生成dot对象\n",
    "graph = pydotplus.graph_from_dot_data(dot_data)  # 通过pydotplus将决策树规则解析为图形\n",
    "graph.write_pdf(\"tree.pdf\")  # 将决策树规则保存为PDF文件"
   ]
  },
  {
   "cell_type": "code",
   "execution_count": 74,
   "metadata": {},
   "outputs": [
    {
     "name": "stdout",
     "output_type": "stream",
     "text": [
      "classification prediction\n",
      "classification for 1 record is: 0\n",
      "classification for 2 record is: 0\n",
      "classification for 3 record is: 1\n"
     ]
    }
   ],
   "source": [
    "# 模型应用\n",
    "X_new = [[40, 0, 55616, 0], [17, 0, 55568, 0], [55, 1, 55932, 1]]\n",
    "print ('classification prediction')\n",
    "for i, data in enumerate(X_new):\n",
    "    y_pre_new = model_tree.predict(np.array(data).reshape(1,-1))\n",
    "    print ('classification for %d record is: %d' % (i + 1, y_pre_new))"
   ]
  },
  {
   "cell_type": "markdown",
   "metadata": {},
   "source": [
    "## 4.4 关联分析\n",
    "\n",
    "略"
   ]
  },
  {
   "cell_type": "markdown",
   "metadata": {},
   "source": [
    "## 4.5 异常检测分析\n",
    "\n",
    "数据集中的异常数据通常被认为是异常点、离群点或孤立点，特点是这些数据的特征与大多数数据不一致，呈现出“异常”的特点，检测这些数据的方法称为异常检测。\n",
    "\n",
    "常用的异常检测方法分为基于统计的异常检测方法（如基于泊松分布、正态分布等分布规律找到异常分布点）、基于距离的异常检测方法（如基于K均值找到离所有分类最远的点）、基于密度的离群检测方法（LOF就是用于识别基于密度的局部异常值的算法）、基于偏移的异常点检测方法、基于时间序列的异常点检测方法等。"
   ]
  },
  {
   "cell_type": "markdown",
   "metadata": {},
   "source": [
    "### 4.5.1 异常检测中的“新奇检测”模式\n",
    "\n",
    "异常检测根据原始数据集的不同可分为：\n",
    "\n",
    "**1. 离群点检测（Outlier Detection）**\n",
    "\n",
    "训练数据集中包含“离群点”数据，大多数场景下所定义的异常数据都属于离群点数据。\n",
    "\n",
    "**2. 新奇检测（Novelty Detection）**\n",
    "\n",
    "新奇检测是识别新的或者未知的数据模式和规律的检测方法，这些规律和知识在已有的机器学习系统的训练集中没有被发掘出来。前提是已知训练数据集是“纯净”的，未被真正的“噪声”数据或者真实的“离群点”污染，然后针对这些数据训练完成后再对新的数据做训练以寻找新奇数据的模式。"
   ]
  },
  {
   "cell_type": "markdown",
   "metadata": {},
   "source": [
    "### 4.5.2 将数据异常和业务异常相分离\n",
    "\n",
    "数据异常反映的只是数据层面的离群分布，而这些离群分布未必是业务意义上的“异常”，也可能是业务特殊运营状态的反映。"
   ]
  },
  {
   "cell_type": "markdown",
   "metadata": {},
   "source": [
    "### 4.5.3 面临维度灾难时，异常检测可能会失效\n",
    "\n",
    "当原始数据中维度特别多时，普通的异常检测方法可能会失效，原因是随着维度的增加，数据之间的相似程度将严重受到维度数量的影响。\n",
    "\n",
    "解决高维度空间下的异常检测问题，通常有三种思路：\n",
    "\n",
    "1. 扩展现有的离群点检测模式\n",
    "2. 发现子空间中的离群点\n",
    "3. 对高维数据进行建模"
   ]
  },
  {
   "cell_type": "markdown",
   "metadata": {},
   "source": [
    "### 4.5.4 异常检测的结果能说明异常吗\n",
    "\n",
    "在进行异常检测分析时，输出的结果是用户是否异常的标签，例如1、-1，但是这种标签只是客观上基于数据相似度或者密度的识别结果，在业务上没有特殊动作导致“假异常”的前提下，是无法判断结果是否真的异常的。\n",
    "\n",
    "在大多数场景下，通过非监督式方法实现的异常检测的结果只是用来缩小排查范围，为业务的执行提供更加精密和高效的执行目标而已。例如黄牛的识别任务中，通过多种算法做出异常检测结果会给出属于黄牛的信息列表，但是信息列表中的结果不一定符合实际情况，还需要业务介入做进一步的筛查和审核。"
   ]
  },
  {
   "cell_type": "markdown",
   "metadata": {},
   "source": [
    "### 4.5.5 代码实操：Python异常检测分析\n",
    "\n",
    "sklearn中提供了One-Class SVM 和EllipticEnvelope两种异常检测的方法，前者属于libsvm实现的非监督式异常检测方法，用于做高维度分布的评估；后者智能做基于高斯分布数据集的异常检测。"
   ]
  },
  {
   "cell_type": "code",
   "execution_count": 75,
   "metadata": {},
   "outputs": [],
   "source": [
    "# 导入库\n",
    "from sklearn.svm import OneClassSVM\n",
    "import numpy as np\n",
    "import matplotlib.pyplot as plt\n",
    "from mpl_toolkits.mplot3d import Axes3D"
   ]
  },
  {
   "cell_type": "code",
   "execution_count": 76,
   "metadata": {},
   "outputs": [
    {
     "name": "stdout",
     "output_type": "stream",
     "text": [
      "(900, 5) (100, 5)\n"
     ]
    }
   ],
   "source": [
    "# 数据准备\n",
    "raw_data = np.loadtxt('outlier.txt', delimiter=' ')\n",
    "train_set = raw_data[:900,:]\n",
    "test_set = raw_data[:100, :]\n",
    "\n",
    "print(train_set.shape, test_set.shape)"
   ]
  },
  {
   "cell_type": "code",
   "execution_count": 79,
   "metadata": {},
   "outputs": [
    {
     "name": "stdout",
     "output_type": "stream",
     "text": [
      "OneClassSVM(cache_size=200, coef0=0.0, degree=3, gamma='auto', kernel='rbf',\n",
      "      max_iter=-1, nu=0.1, random_state=0, shrinking=True, tol=0.001,\n",
      "      verbose=False)\n",
      "\n",
      "\n",
      "[-1  1  1  1 -1  1  1  1 -1  1  1  1  1  1  1  1  1  1  1  1 -1 -1  1  1\n",
      "  1  1  1  1  1  1  1  1  1  1  1  1  1  1  1  1  1  1  1  1  1  1  1  1\n",
      "  1  1  1  1  1  1 -1  1  1  1  1  1  1  1  1  1  1  1 -1  1  1  1  1  1\n",
      "  1  1  1  1  1  1  1  1  1  1  1  1  1  1  1  1  1  1  1 -1  1 -1  1  1\n",
      "  1 -1 -1  1]\n"
     ]
    }
   ],
   "source": [
    "# 异常数据检测\n",
    "model_oneclasssvm = OneClassSVM(nu=0.1, kernel='rbf', random_state=0)\n",
    "model_oneclasssvm.fit(train_set)\n",
    "pred_test_outliers = model_oneclasssvm.predict(test_set)\n",
    "\n",
    "print(model_oneclasssvm)\n",
    "print('\\n')\n",
    "print(pred_test_outliers)"
   ]
  },
  {
   "cell_type": "code",
   "execution_count": 83,
   "metadata": {},
   "outputs": [
    {
     "name": "stdout",
     "output_type": "stream",
     "text": [
      "outliers: 6/100\n",
      "**************** all result data (limit 5) *****************\n",
      "[[ 0.03685295  0.0343899   0.09197858 -0.01026255 -0.00814121 -1.        ]\n",
      " [-0.0011522   0.02174971 -0.02040125  0.00986554 -0.03447136  1.        ]\n",
      " [-0.01258645  0.04736393  0.01110832 -0.01156876 -0.02334062  1.        ]\n",
      " [-0.02837847  0.04398011  0.00126378  0.02313849  0.00542565  1.        ]\n",
      " [ 0.02222529  0.00715191 -0.03713534 -0.02938668 -0.09915368 -1.        ]]\n"
     ]
    }
   ],
   "source": [
    "# 异常结果统计\n",
    "\n",
    "# 将测试集和检测结果合并\n",
    "total_test_data = np.hstack((test_set, pred_test_outliers.reshape(test_set.shape[0], 1)))\n",
    "# 获取检测结果中的正常数据\n",
    "normal_test_data = total_test_data[total_test_data[:, -1] == 1]\n",
    "# 获取检测结果中的异常数据\n",
    "outlier_test_data = total_test_data[total_test_data[:, -1] == -1]\n",
    "# 获得异常数据的结果数量\n",
    "n_test_outliers = outlier_test_data.shape[1]\n",
    "# 获取测试样本数量\n",
    "total_count_test = total_test_data.shape[0]\n",
    "# 输出异常的结果数量\n",
    "print('outliers: {0}/{1}'.format(n_test_outliers, total_count_test))\n",
    "print('{:*^60}'.format(' all result data (limit 5) '))\n",
    "print(total_test_data[:5])"
   ]
  },
  {
   "cell_type": "code",
   "execution_count": 86,
   "metadata": {},
   "outputs": [
    {
     "data": {
      "image/png": "[encoded data removed]",
      "text/plain": [
       "<Figure size 432x288 with 1 Axes>"
      ]
     },
     "metadata": {},
     "output_type": "display_data"
    }
   ],
   "source": [
    "# 异常结果展示\n",
    "\n",
    "# 使用ggplot样式库\n",
    "plt.style.use('ggplot')\n",
    "fig = plt.figure()\n",
    "# 将画布抓换为3D类型\n",
    "ax = Axes3D(fig)\n",
    "s1 = ax.scatter(normal_test_data[:, 0], normal_test_data[:, 1], normal_test_data[:, 2], s = 100, edgecolors = 'k', c = 'g', marker= 'o')\n",
    "s2 = ax.scatter(outlier_test_data[:, 0], outlier_test_data[:, 1], outlier_test_data[:, 2], s = 100, edgecolors = 'k', c = 'r', marker= 'o')\n",
    "ax.w_xaxis.set_ticklabels([])\n",
    "ax.w_yaxis.set_ticklabels([])\n",
    "ax.w_zaxis.set_ticklabels([])\n",
    "ax.legend([s1, s2], ['normal points', 'outliers'], loc = 0)\n",
    "plt.title('Novelty Detection')\n",
    "plt.show()"
   ]
  },
  {
   "cell_type": "markdown",
   "metadata": {},
   "source": [
    "## 4.6 时间序列分析\n",
    "\n",
    "时间序列是用来研究数据随时间变化趋势而变化的一类算法，是一种常用的预测性分析方法。基本出发点是事物的发展都具有连续性，都是按照它本身固有的规律进行的。本质上看，时间序列算法是利用统计技术和方法，从预测指标的连续型规律中找出演变模式并建立数据模型，对预测指标的未来发展趋势做出定量预估。\n",
    "\n",
    "时间序列常用的算法包括移动平均（MA，Moving Average）、指数平滑（ES，Exponential Smoothing）、差分自回归移动平均模型（ARIMA，Auto-regressive Intergrated Moving Average Model）三大类主要类别，每个类别又可以细分和延伸出多种算法。\n",
    "\n",
    "时间序列可以解决在只有时间（序列项）而没有其他可控变量对未来数据的预测问题，常用语经济预测、股市预测、天气预测等偏宏观或没有可控自变量的场景下。"
   ]
  },
  {
   "cell_type": "markdown",
   "metadata": {},
   "source": [
    "### 4.6.1 如果有自变量，为什么还要用时间序列\n",
    "\n",
    "时间序列通常用于在没有自变量可用的条件下做预测性分析，但是某些场景下，即使有自变量仍然需要使用时间序列。一般思路是，通过回归方法解释其中的“主要规律”，然后通过其他方法对结果加以修正来实现更加准确的预测。"
   ]
  },
  {
   "cell_type": "markdown",
   "metadata": {},
   "source": [
    "### 4.6.2 时间序列不适合商业环境复杂的企业\n",
    "\n",
    "常见的对时间序列影响较大的因素包括：\n",
    "\n",
    "* 融资、并购、收购：主要是因为企业的发展模式会面临重构\n",
    "* 人工造势：例如京东618、天猫双11等，由于人工造势形成了在特定时期出现了不同的数据\n",
    "* 恶意商业活动：例如恶意流量、黄牛刷单等\n",
    "* 广告活动\n",
    "* 促销活动\n",
    "* 人为因素：例如删库、价格标错、内部信息泄露\n",
    "* 系统问题：例如IT问题等\n",
    "* 竞争对手影响\n",
    "* 宏观政策影响：例如京城二手房交易\n",
    "* 企业经营策略的转变\n",
    "\n",
    "这些因素都无法直接通过时间性规律反映，时间序列很难在这样的场景下真正发挥效果。因此，在实际的运营分析中，只使用时间序列做预测性的分析场景相对较少。"
   ]
  },
  {
   "cell_type": "markdown",
   "metadata": {},
   "source": [
    "### 4.6.3 时间序列预测的整合、横向和纵向模式\n",
    "\n",
    "当数据集规模较大、数据粒度丰富时，可以选择多种时间序列的预测模式。时间序列的数据粒度可分为秒、分、小时、天、周、月、季度、年等，不同的粒度都可以用来做时间序列预测。\n",
    "\n",
    "假如有十年的完整数据，共365天以每分钟时间戳为粒度的数据，那么此数据集会有5256000条记录。基于该数据集预测今天的总数据，可以考虑的时间序列模式有三种：\n",
    "\n",
    "1. 整合模式：按每天数据进行汇总，得到3650条时间序列数据，然后应用到所有数据集做时间序列分析，预测的时间序列项目为1天；\n",
    "2. 横向模式：按每小时做汇总，得到87600条时间序列数据，然后将要预测的1天划分为24小时（即24个预测点），形成24个预测模型，每个模型只预测对应小时点数据，预测时间序列项目为1小时，最后将预测得到的24个小时点的数据求和得到总数据；\n",
    "3. 纵向模式：此模式粒度更细，无需对历史数据做任何形式的汇总，有525600条时间序列数据，一天划分为1440个分钟点，这样会形成1440个预测模型，每个模型只预测对应的分钟点的数据，预测的时间序列项目为1分钟，最后将预测得到的1440个分钟点的数据求和得到今天的总数据。\n",
    "\n",
    "这三种方式的训练集都是3650条，即按天为粒度的数据。横向模式和纵向模式由于做更细的粒度切分，因此需要更多的模型，意味着需要更多的时间来做训练和预测。"
   ]
  },
  {
   "cell_type": "markdown",
   "metadata": {},
   "source": [
    "### 4.6.4 代码实操：Python时间序列分析\n",
    "\n",
    "Pandas和statsmodels都是提供了时间序列相关的分析功能，本例使用statsmodel，算法使用ARIMA或ARMA。对于这两种时间序列方法而言，应用的难点是如何根据不同的场景判断参考值。"
   ]
  },
  {
   "cell_type": "code",
   "execution_count": 89,
   "metadata": {},
   "outputs": [],
   "source": [
    "# 导入库\n",
    "import numpy as np\n",
    "import pandas as pd\n",
    "# acf和pacf展示库\n",
    "from statsmodels.graphics.tsaplots import plot_acf, plot_pacf\n",
    "# adf检验库\n",
    "from statsmodels.tsa.stattools import adfuller\n",
    "# 随机性检验库\n",
    "from statsmodels.stats.diagnostic import acorr_ljungbox\n",
    "# ARMA库\n",
    "from statsmodels.tsa.arima_model import ARMA\n",
    "\n",
    "import matplotlib.pyplot as plt\n",
    "import prettytable"
   ]
  },
  {
   "cell_type": "code",
   "execution_count": 90,
   "metadata": {},
   "outputs": [],
   "source": [
    "# 多次用到的表格\n",
    "def pre_table(table_name, table_rows):\n",
    "    '''\n",
    "    :param table_name: 表格名称，字符串列表\n",
    "    :param table_rows: 表格内容， 嵌套列表\n",
    "    :return: 展示表格对象\n",
    "    '''\n",
    "    table = prettytable.PrettyTable()\n",
    "    table.field_names = table_name\n",
    "    for i in table_rows:\n",
    "        table.add_row(i)\n",
    "    return table"
   ]
  },
  {
   "cell_type": "code",
   "execution_count": 91,
   "metadata": {},
   "outputs": [],
   "source": [
    "# 数据平稳处理\n",
    "def get_best_log(ts, max_log = 5, rule1 = True, rule2 = True):\n",
    "    '''\n",
    "    :param ts: 时间序列数据，Series类型\n",
    "    :param max_log： 最大log处理次数，int类型\n",
    "    :param rule1： rule1规则布尔值\n",
    "    :param rule2： rule2规则布尔值\n",
    "    : return：达到平稳处理的最佳此数值和处理后的时间序列\n",
    "    '''\n",
    "    # 如果两个规则同时满足\n",
    "    if rule1 and rule2:\n",
    "        # 直接返回0和原始时间序列的数据\n",
    "        return 0, ts\n",
    "    # 只有一个规则满足\n",
    "    else:\n",
    "        # 循环做log处理\n",
    "        for i in range(1, max_log):\n",
    "            # log处理\n",
    "            ts = np.log(ts)\n",
    "            # 白噪声检验结果\n",
    "            lbvalue, pvalue1 = acorr_ljungbox(ts, lags=1)\n",
    "            # ADF检验\n",
    "            adf, pvalue2, usedlag, nobs, critical_values, icbest = adfuller(ts)\n",
    "            # 稳定性检验\n",
    "            rule_1 = (adf < critical_values['1%'] and adf < critical_values['5%'] and adf < critical_values['10%'] and pvalue1 < 0.01)\n",
    "            # 白噪声检验\n",
    "            rule_2 = (pvalue2 < 0.05)\n",
    "            rule_3 = (i < 5)\n",
    "            # 如果同时满足条件\n",
    "            if rule_1 and rule_2 and rule_3:\n",
    "                print('The best log n is: {0}'.format(i))\n",
    "                return i, ts"
   ]
  },
  {
   "cell_type": "code",
   "execution_count": 92,
   "metadata": {},
   "outputs": [],
   "source": [
    "# 还原经过平稳处理的数据\n",
    "def recover_log(ts, log_n):\n",
    "    '''\n",
    "    :param ts: 经过log平稳处理的时间序列，Series类型\n",
    "    :param log_n: log方法处理的次数\n",
    "    :return 还原后的时间序列\n",
    "    '''\n",
    "    for i in range(1, log_n + 1):\n",
    "        ts = np.exp(ts)\n",
    "    return rs"
   ]
  },
  {
   "cell_type": "code",
   "execution_count": 93,
   "metadata": {},
   "outputs": [],
   "source": [
    "# 平稳性检验\n",
    "def adf_val(ts, ts_title, acf_title, pacf_title):\n",
    "    '''\n",
    "    :param ts: 时间序列数据\n",
    "    :param ts_title: 时间序列图的标题名称\n",
    "    :param acf_title: acf图的标题名称\n",
    "    :param pacf_title: pacf图的标题名称\n",
    "    :return: adf值、adf的p值、三种状态的检验值\n",
    "    '''\n",
    "    plt.figure()\n",
    "    # 时间序列图\n",
    "    plt.plot(ts)\n",
    "    # 时间序列标题\n",
    "    plt.title(ts_title)\n",
    "    plt.show()\n",
    "    \n",
    "    # 自相关检测\n",
    "    plot_acf(ts, lags = 20, title=acf_title).show()\n",
    "    # 偏相关检测\n",
    "    plot_pacf(ts, lags = 20, title=pacf_title).show()\n",
    "    # 平稳性检测\n",
    "    adf, pvalue, usedlag, nobs, critical_values, icbest = adfuller(ts)\n",
    "    # 表格列名列表\n",
    "    table_name = ['adf', 'pvalue', 'usedlag', 'nobs', 'critical_value', 'icbest']\n",
    "    # 表格行数据，嵌套列表\n",
    "    table_rows = [[adf, pvalue, usedlag, nobs, critical_values, icbest]]\n",
    "    # 获取平稳性展示表格对象\n",
    "    adf_table = pre_table(table_name, table_rows)\n",
    "    # 打印标题\n",
    "    print('stochastic score')\n",
    "    # 打印展示表格\n",
    "    print(adf_table)\n",
    "    # 返回adf值、adf的p值、三种状态的检验值\n",
    "    return adf, pvalue, critical_values"
   ]
  },
  {
   "cell_type": "code",
   "execution_count": 94,
   "metadata": {},
   "outputs": [],
   "source": [
    "# 白噪声（随机性）检验\n",
    "def acorr_val(ts):\n",
    "    '''\n",
    "    :param ts: 时间序列数据\n",
    "    :renturn: 白噪声检验的p值和展示数据表格对象\n",
    "    '''\n",
    "    # 宝噪声检验结果\n",
    "    lbvalue, pvalue = acorr_ljungbox(ts, lags = 1)\n",
    "    # 表格列名\n",
    "    table_name = ['lbvalue', 'pvalue']\n",
    "    # 表格行数据\n",
    "    table_rows = [[lbvalue, pvalue]]\n",
    "    # 获取白噪声检验展示表格对象\n",
    "    acorr_ljungbox_table = pre_table(table_name, table_rows)\n",
    "    print('stationarity score')\n",
    "    print(acorr_ljungbox_table)\n",
    "    return pvalue"
   ]
  },
  {
   "cell_type": "code",
   "execution_count": 112,
   "metadata": {},
   "outputs": [],
   "source": [
    "# arma最优模型训练\n",
    "def arma_fit(ts):\n",
    "    '''\n",
    "    :param ts: 时间序列数据\n",
    "    :reutn 最优状态下的p值、q值、arma模型对象、pdq数据框和展示参数表格对象\n",
    "    '''\n",
    "    # 最大循环次数定义为记录数的10%\n",
    "    max_count = int(len(ts) / 10)\n",
    "    # 初始值为正无穷\n",
    "    bic = float('inf')\n",
    "    # 临时p、q、aic、bic和hqic的值的列表\n",
    "    tmp_score = []\n",
    "    # p循环max_count + 1次\n",
    "    for tmp_p in range(max_count + 1):\n",
    "        # q循环max_count + 1次\n",
    "        for tmp_q in range(max_count + 1):\n",
    "            # 创建ARMA模型对象\n",
    "            model = ARMA(ts, order=(tmp_p, tmp_q))\n",
    "            try:\n",
    "                # AMRA模型训练\n",
    "                results_AMRA = model.fit(disp=1, method='css')\n",
    "            except:\n",
    "                # 遇到错误继续\n",
    "                continue\n",
    "            finally:\n",
    "                # 模型的获得aic\n",
    "                tmp_aic = results_AMRA.aic\n",
    "                # 模型的获得bic\n",
    "                tmp_bic = results_AMRA.bic\n",
    "                # 模型的获得hqic\n",
    "                tmp_hqic = results_AMRA.hqic\n",
    "                # 追加每个模型的训练参数和结果\n",
    "                tmp_score.append([tmp_p, tmp_q, tmp_aic, tmp_bic, tmp_hqic])\n",
    "                # 如果模型的bic小于最小值，那么获得最优模型AMRA的下列参数：\n",
    "                if tmp_bic < bic:\n",
    "                    # 最优模型AMRA的p值\n",
    "                    p = tmp_p\n",
    "                    # 最优模型AMRA的q值\n",
    "                    q = tmp_q\n",
    "                    # 最优模型ARMA的模型对象\n",
    "                    model_arma = results_AMRA\n",
    "                    # 最优模型ARMA的aic\n",
    "                    aic = tmp_aic\n",
    "                    # 最优模型ARMA的bic\n",
    "                    bic = tmp_bic \n",
    "                    # 最优模型ARMA的hqic\n",
    "                    hqic = tmp_hqic\n",
    "    # 将嵌套列表转换为矩阵\n",
    "    pdq_matrix = np.array(tmp_score)\n",
    "    # 基于矩阵创建数据框\n",
    "    pdq_pd = pd.DataFrame(pdq_matrix, columns=['p', 'q', 'aic', 'bic', 'hqic'])\n",
    "    # 表格列名列表\n",
    "    table_name = ['p', 'q', 'aic', 'bic', 'hqic']\n",
    "    # 表格行数据\n",
    "    table_rows = [[p, q, aic, bic, hqic]]\n",
    "    # 获得最佳ARMA模型结果展示表格对象\n",
    "    parameter_table = pre_table(table_name, table_rows)\n",
    "    print('each p/q training recored')\n",
    "    print(pdq_pd)\n",
    "    print('best p and q')\n",
    "    print(parameter_table)\n",
    "    return model_arma"
   ]
  },
  {
   "cell_type": "code",
   "execution_count": 96,
   "metadata": {},
   "outputs": [],
   "source": [
    "# 模型训练和效果评估\n",
    "def train_test(model_arma, ts, log_n, rule1=True, rule2=True):\n",
    "    '''\n",
    "    :param model_arma: 最优ARMA模型对象\n",
    "    :param ts: 时间序列数据\n",
    "    :param log_n: 平稳性处理的log的次数\n",
    "    :param rule1: rule1规则布尔值\n",
    "    :param rule2: rule2规则布尔值\n",
    "    :return: 还原后的时间序列\n",
    "    '''\n",
    "    # 得到训练集的预测时间序列\n",
    "    train_predict = model_arma.predict()\n",
    "    # 如果两个规则条件有任意一个满足\n",
    "    if not (rule1 and rule2):\n",
    "        # 恢复平稳性处理前的真实时间序列值\n",
    "        train_predict = recover_log(train_predict, log_n)\n",
    "        # 时间徐磊还原处理\n",
    "        ts = recover_log(ts, log_n)\n",
    "    # 将还原时间序列数据的长度与预测的周期对齐\n",
    "    ts_data_new = ts[train_predict.index]\n",
    "    # 求RMSE\n",
    "    RMSE = np.sqrt(np.sum((train_predict - ts_data_new) ** 2)/ ts_data_new.size)\n",
    "    # 对比训练集的预测和真实数据\n",
    "    plt.figure()\n",
    "    # 以虚线展示预测数据\n",
    "    train_predict.plot(label = 'predicted data', style='--')\n",
    "    # 以实线展示真实数据\n",
    "    ts_data_new.plot(label = 'raw data')\n",
    "    # 设置图例位置\n",
    "    plt.legend(loc = 'best')\n",
    "    # 设置标题\n",
    "    plt.title('raw data and predicted data with RMSE of %.2f' % RMSE)\n",
    "    # 展示图像\n",
    "    plt.show()\n",
    "    # 返回还原后的时间序列\n",
    "    return ts"
   ]
  },
  {
   "cell_type": "code",
   "execution_count": 97,
   "metadata": {},
   "outputs": [],
   "source": [
    "# 预测未来指定时间项的数据\n",
    "def predict_data(model_arma, ts, log_n, start, end, rule1 = True, rule2 = True):\n",
    "    '''\n",
    "    :param model_arma: 最优ARMA模型对象\n",
    "    :param ts: 时间序列数据\n",
    "    :param log_n: 平稳性处理的log次数\n",
    "    :param start: 要预测数据的开始时间索引\n",
    "    :param end: 要预测数据的结束时间索引\n",
    "    :param rule1: rule1规则布尔值\n",
    "    :param rule2: rule2规则布尔值\n",
    "    :return: 无\n",
    "    '''\n",
    "    # 预测未来指定时间项的数据\n",
    "    predict_ts = model_arma.predict(start=start, end=end)\n",
    "    # 打印标题\n",
    "    print('-------------predict data-------------')\n",
    "    # 如果两个规则条件有任意一个满足\n",
    "    if not (rule1 and rule2):\n",
    "        # 还原数据\n",
    "        predict_ts = recover_log(predict_ts, log_n)\n",
    "    # 展示预测数据\n",
    "    print(predict_ts)\n",
    "    # 展示预测趋势\n",
    "    plt.figure()\n",
    "    # 这是推向标签\n",
    "    ts.plot(label='raw time series')\n",
    "    # 以虚线展示预测数据\n",
    "    predict_ts.plot(label='predicted_data', style='--')\n",
    "    # 设置图例位置\n",
    "    plt.legend(loc='best')\n",
    "    # 设置标题\n",
    "    plt.title('predicted time series')\n",
    "    plt.show()"
   ]
  },
  {
   "cell_type": "code",
   "execution_count": 98,
   "metadata": {},
   "outputs": [
    {
     "data": {
      "text/html": [
       "<div>\n",
       "<style scoped>\n",
       "    .dataframe tbody tr th:only-of-type {\n",
       "        vertical-align: middle;\n",
       "    }\n",
       "\n",
       "    .dataframe tbody tr th {\n",
       "        vertical-align: top;\n",
       "    }\n",
       "\n",
       "    .dataframe thead th {\n",
       "        text-align: right;\n",
       "    }\n",
       "</style>\n",
       "<table border=\"1\" class=\"dataframe\">\n",
       "  <thead>\n",
       "    <tr style=\"text-align: right;\">\n",
       "      <th></th>\n",
       "      <th>number</th>\n",
       "    </tr>\n",
       "    <tr>\n",
       "      <th>date</th>\n",
       "      <th></th>\n",
       "    </tr>\n",
       "  </thead>\n",
       "  <tbody>\n",
       "    <tr>\n",
       "      <th>1991-03-01</th>\n",
       "      <td>281</td>\n",
       "    </tr>\n",
       "    <tr>\n",
       "      <th>1991-03-02</th>\n",
       "      <td>304</td>\n",
       "    </tr>\n",
       "    <tr>\n",
       "      <th>1991-03-03</th>\n",
       "      <td>292</td>\n",
       "    </tr>\n",
       "    <tr>\n",
       "      <th>1991-03-04</th>\n",
       "      <td>360</td>\n",
       "    </tr>\n",
       "    <tr>\n",
       "      <th>1991-03-05</th>\n",
       "      <td>320</td>\n",
       "    </tr>\n",
       "  </tbody>\n",
       "</table>\n",
       "</div>"
      ],
      "text/plain": [
       "            number\n",
       "date              \n",
       "1991-03-01     281\n",
       "1991-03-02     304\n",
       "1991-03-03     292\n",
       "1991-03-04     360\n",
       "1991-03-05     320"
      ]
     },
     "execution_count": 98,
     "metadata": {},
     "output_type": "execute_result"
    }
   ],
   "source": [
    "# 读取数据\n",
    "\n",
    "# 创建解析列的功能对象\n",
    "data_parse = lambda dates: pd.datetime.strptime(dates, '%m-%d-%Y')\n",
    "# 读取数据\n",
    "df =pd.read_table('time_series.txt', delimiter='\\t', index_col='date', date_parser=data_parse)\n",
    "\n",
    "df.head()"
   ]
  },
  {
   "cell_type": "code",
   "execution_count": 103,
   "metadata": {},
   "outputs": [
    {
     "name": "stdout",
     "output_type": "stream",
     "text": [
      "count    149.000000\n",
      "mean     164.382553\n",
      "std       75.097740\n",
      "min       47.000000\n",
      "25%      100.000000\n",
      "50%      156.000000\n",
      "75%      201.000000\n",
      "max      400.000000\n",
      "Name: number, dtype: float64\n"
     ]
    }
   ],
   "source": [
    "# 将列转换为float32类型\n",
    "ts_data = df['number'].astype('float32')\n",
    "print(ts_data.describe())"
   ]
  },
  {
   "cell_type": "code",
   "execution_count": 104,
   "metadata": {},
   "outputs": [
    {
     "data": {
      "image/png": "[encoded data removed]",
      "text/plain": [
       "<Figure size 432x288 with 1 Axes>"
      ]
     },
     "metadata": {},
     "output_type": "display_data"
    },
    {
     "name": "stderr",
     "output_type": "stream",
     "text": [
      "/Users/Robin/anaconda3/envs/python36/lib/python3.6/site-packages/matplotlib/figure.py:459: UserWarning: matplotlib is currently using a non-GUI backend, so cannot show the figure\n",
      "  \"matplotlib is currently using a non-GUI backend, \"\n",
      "/Users/Robin/anaconda3/envs/python36/lib/python3.6/site-packages/matplotlib/figure.py:459: UserWarning: matplotlib is currently using a non-GUI backend, so cannot show the figure\n",
      "  \"matplotlib is currently using a non-GUI backend, \"\n"
     ]
    },
    {
     "name": "stdout",
     "output_type": "stream",
     "text": [
      "stochastic score\n",
      "+---------------------+----------------------+---------+------+-----------------------------------------------------------------------------------+--------------------+\n",
      "|         adf         |        pvalue        | usedlag | nobs |                                   critical_value                                  |       icbest       |\n",
      "+---------------------+----------------------+---------+------+-----------------------------------------------------------------------------------+--------------------+\n",
      "| -3.7642778196383455 | 0.003294690380296773 |    11   | 137  | {'1%': -3.479007355368944, '5%': -2.8828782366015093, '10%': -2.5781488587564603} | 1405.3846604574503 |\n",
      "+---------------------+----------------------+---------+------+-----------------------------------------------------------------------------------+--------------------+\n"
     ]
    },
    {
     "data": {
      "image/png": "[encoded data removed]",
      "text/plain": [
       "<Figure size 432x288 with 1 Axes>"
      ]
     },
     "metadata": {},
     "output_type": "display_data"
    },
    {
     "data": {
      "image/png": "[encoded data removed]",
      "text/plain": [
       "<Figure size 432x288 with 1 Axes>"
      ]
     },
     "metadata": {},
     "output_type": "display_data"
    }
   ],
   "source": [
    "# 展示数据检验\n",
    "\n",
    "# 平稳性检验\n",
    "adf, pvalue1, critical_values = adf_val(ts_data, 'raw tiem series', 'raw acf', 'raw pacf')"
   ]
  },
  {
   "cell_type": "code",
   "execution_count": 105,
   "metadata": {},
   "outputs": [
    {
     "name": "stdout",
     "output_type": "stream",
     "text": [
      "stationarity score\n",
      "+---------------+------------------+\n",
      "|    lbvalue    |      pvalue      |\n",
      "+---------------+------------------+\n",
      "| [70.22300033] | [5.29652707e-17] |\n",
      "+---------------+------------------+\n"
     ]
    }
   ],
   "source": [
    "# 白噪声检验\n",
    "pvalue2 = acorr_val(ts_data)"
   ]
  },
  {
   "cell_type": "code",
   "execution_count": 107,
   "metadata": {},
   "outputs": [
    {
     "name": "stdout",
     "output_type": "stream",
     "text": [
      "True True\n"
     ]
    }
   ],
   "source": [
    "# 创建用于区分是否进行平稳性处理的规则\n",
    "rule1 = (adf < critical_values['1%'] and adf < critical_values['5%'] and adf <  critical_values['10%'] and pvalue1 < 0.01)\n",
    "rule2 = (pvalue2[0,] < 0.05)\n",
    "\n",
    "print(rule1, rule2)"
   ]
  },
  {
   "cell_type": "code",
   "execution_count": 108,
   "metadata": {},
   "outputs": [],
   "source": [
    "# 对时间序列做平稳性处理\n",
    "log_n, ts_data  = get_best_log(ts_data, max_log=5, rule1=rule1, rule2=rule2)"
   ]
  },
  {
   "cell_type": "code",
   "execution_count": 110,
   "metadata": {},
   "outputs": [
    {
     "data": {
      "image/png": "[encoded data removed]",
      "text/plain": [
       "<Figure size 432x288 with 1 Axes>"
      ]
     },
     "metadata": {},
     "output_type": "display_data"
    },
    {
     "name": "stderr",
     "output_type": "stream",
     "text": [
      "/Users/Robin/anaconda3/envs/python36/lib/python3.6/site-packages/matplotlib/figure.py:459: UserWarning: matplotlib is currently using a non-GUI backend, so cannot show the figure\n",
      "  \"matplotlib is currently using a non-GUI backend, \"\n",
      "/Users/Robin/anaconda3/envs/python36/lib/python3.6/site-packages/matplotlib/figure.py:459: UserWarning: matplotlib is currently using a non-GUI backend, so cannot show the figure\n",
      "  \"matplotlib is currently using a non-GUI backend, \"\n"
     ]
    },
    {
     "name": "stdout",
     "output_type": "stream",
     "text": [
      "stochastic score\n",
      "+---------------------+----------------------+---------+------+-----------------------------------------------------------------------------------+--------------------+\n",
      "|         adf         |        pvalue        | usedlag | nobs |                                   critical_value                                  |       icbest       |\n",
      "+---------------------+----------------------+---------+------+-----------------------------------------------------------------------------------+--------------------+\n",
      "| -3.7642778196383455 | 0.003294690380296773 |    11   | 137  | {'1%': -3.479007355368944, '5%': -2.8828782366015093, '10%': -2.5781488587564603} | 1405.3846604574503 |\n",
      "+---------------------+----------------------+---------+------+-----------------------------------------------------------------------------------+--------------------+\n",
      "stationarity score\n",
      "+---------------+------------------+\n",
      "|    lbvalue    |      pvalue      |\n",
      "+---------------+------------------+\n",
      "| [70.22300033] | [5.29652707e-17] |\n",
      "+---------------+------------------+\n"
     ]
    },
    {
     "data": {
      "image/png": "[encoded data removed]",
      "text/plain": [
       "<Figure size 432x288 with 1 Axes>"
      ]
     },
     "metadata": {},
     "output_type": "display_data"
    },
    {
     "data": {
      "image/png": "[encoded data removed]",
      "text/plain": [
       "<Figure size 432x288 with 1 Axes>"
      ]
     },
     "metadata": {},
     "output_type": "display_data"
    }
   ],
   "source": [
    "# 再次进行检验\n",
    "adf, pvalue1, critical_values = adf_val(ts_data, 'final tiem series', 'final acf', 'final pacf')\n",
    "# 白噪声检验\n",
    "pvalue2 = acorr_val(ts_data)"
   ]
  },
  {
   "cell_type": "code",
   "execution_count": 113,
   "metadata": {},
   "outputs": [
    {
     "name": "stderr",
     "output_type": "stream",
     "text": [
      "/Users/Robin/anaconda3/envs/python36/lib/python3.6/site-packages/statsmodels/tsa/base/tsa_model.py:171: ValueWarning: No frequency information was provided, so inferred frequency D will be used.\n",
      "  % freq, ValueWarning)\n",
      "/Users/Robin/anaconda3/envs/python36/lib/python3.6/site-packages/statsmodels/tsa/base/tsa_model.py:171: ValueWarning: No frequency information was provided, so inferred frequency D will be used.\n",
      "  % freq, ValueWarning)\n",
      "/Users/Robin/anaconda3/envs/python36/lib/python3.6/site-packages/statsmodels/tsa/base/tsa_model.py:171: ValueWarning: No frequency information was provided, so inferred frequency D will be used.\n",
      "  % freq, ValueWarning)\n",
      "/Users/Robin/anaconda3/envs/python36/lib/python3.6/site-packages/statsmodels/tsa/base/tsa_model.py:171: ValueWarning: No frequency information was provided, so inferred frequency D will be used.\n",
      "  % freq, ValueWarning)\n",
      "/Users/Robin/anaconda3/envs/python36/lib/python3.6/site-packages/statsmodels/tsa/base/tsa_model.py:171: ValueWarning: No frequency information was provided, so inferred frequency D will be used.\n",
      "  % freq, ValueWarning)\n",
      "/Users/Robin/anaconda3/envs/python36/lib/python3.6/site-packages/statsmodels/tsa/base/tsa_model.py:171: ValueWarning: No frequency information was provided, so inferred frequency D will be used.\n",
      "  % freq, ValueWarning)\n",
      "/Users/Robin/anaconda3/envs/python36/lib/python3.6/site-packages/statsmodels/tsa/base/tsa_model.py:171: ValueWarning: No frequency information was provided, so inferred frequency D will be used.\n",
      "  % freq, ValueWarning)\n",
      "/Users/Robin/anaconda3/envs/python36/lib/python3.6/site-packages/statsmodels/tsa/base/tsa_model.py:171: ValueWarning: No frequency information was provided, so inferred frequency D will be used.\n",
      "  % freq, ValueWarning)\n",
      "/Users/Robin/anaconda3/envs/python36/lib/python3.6/site-packages/statsmodels/tsa/base/tsa_model.py:171: ValueWarning: No frequency information was provided, so inferred frequency D will be used.\n",
      "  % freq, ValueWarning)\n",
      "/Users/Robin/anaconda3/envs/python36/lib/python3.6/site-packages/statsmodels/tsa/base/tsa_model.py:171: ValueWarning: No frequency information was provided, so inferred frequency D will be used.\n",
      "  % freq, ValueWarning)\n",
      "/Users/Robin/anaconda3/envs/python36/lib/python3.6/site-packages/statsmodels/tsa/base/tsa_model.py:171: ValueWarning: No frequency information was provided, so inferred frequency D will be used.\n",
      "  % freq, ValueWarning)\n",
      "/Users/Robin/anaconda3/envs/python36/lib/python3.6/site-packages/statsmodels/tsa/base/tsa_model.py:171: ValueWarning: No frequency information was provided, so inferred frequency D will be used.\n",
      "  % freq, ValueWarning)\n",
      "/Users/Robin/anaconda3/envs/python36/lib/python3.6/site-packages/statsmodels/tsa/base/tsa_model.py:171: ValueWarning: No frequency information was provided, so inferred frequency D will be used.\n",
      "  % freq, ValueWarning)\n",
      "/Users/Robin/anaconda3/envs/python36/lib/python3.6/site-packages/statsmodels/tsa/base/tsa_model.py:171: ValueWarning: No frequency information was provided, so inferred frequency D will be used.\n",
      "  % freq, ValueWarning)\n",
      "/Users/Robin/anaconda3/envs/python36/lib/python3.6/site-packages/statsmodels/tsa/base/tsa_model.py:171: ValueWarning: No frequency information was provided, so inferred frequency D will be used.\n",
      "  % freq, ValueWarning)\n",
      "/Users/Robin/anaconda3/envs/python36/lib/python3.6/site-packages/statsmodels/tsa/base/tsa_model.py:171: ValueWarning: No frequency information was provided, so inferred frequency D will be used.\n",
      "  % freq, ValueWarning)\n",
      "/Users/Robin/anaconda3/envs/python36/lib/python3.6/site-packages/statsmodels/tsa/base/tsa_model.py:171: ValueWarning: No frequency information was provided, so inferred frequency D will be used.\n",
      "  % freq, ValueWarning)\n",
      "/Users/Robin/anaconda3/envs/python36/lib/python3.6/site-packages/statsmodels/tsa/base/tsa_model.py:171: ValueWarning: No frequency information was provided, so inferred frequency D will be used.\n",
      "  % freq, ValueWarning)\n",
      "/Users/Robin/anaconda3/envs/python36/lib/python3.6/site-packages/statsmodels/tsa/base/tsa_model.py:171: ValueWarning: No frequency information was provided, so inferred frequency D will be used.\n",
      "  % freq, ValueWarning)\n",
      "/Users/Robin/anaconda3/envs/python36/lib/python3.6/site-packages/statsmodels/tsa/base/tsa_model.py:171: ValueWarning: No frequency information was provided, so inferred frequency D will be used.\n",
      "  % freq, ValueWarning)\n",
      "/Users/Robin/anaconda3/envs/python36/lib/python3.6/site-packages/statsmodels/tsa/base/tsa_model.py:171: ValueWarning: No frequency information was provided, so inferred frequency D will be used.\n",
      "  % freq, ValueWarning)\n",
      "/Users/Robin/anaconda3/envs/python36/lib/python3.6/site-packages/statsmodels/tsa/base/tsa_model.py:171: ValueWarning: No frequency information was provided, so inferred frequency D will be used.\n",
      "  % freq, ValueWarning)\n",
      "/Users/Robin/anaconda3/envs/python36/lib/python3.6/site-packages/statsmodels/tsa/base/tsa_model.py:171: ValueWarning: No frequency information was provided, so inferred frequency D will be used.\n",
      "  % freq, ValueWarning)\n",
      "/Users/Robin/anaconda3/envs/python36/lib/python3.6/site-packages/statsmodels/tsa/base/tsa_model.py:171: ValueWarning: No frequency information was provided, so inferred frequency D will be used.\n",
      "  % freq, ValueWarning)\n",
      "/Users/Robin/anaconda3/envs/python36/lib/python3.6/site-packages/statsmodels/tsa/base/tsa_model.py:171: ValueWarning: No frequency information was provided, so inferred frequency D will be used.\n",
      "  % freq, ValueWarning)\n",
      "/Users/Robin/anaconda3/envs/python36/lib/python3.6/site-packages/statsmodels/tsa/base/tsa_model.py:171: ValueWarning: No frequency information was provided, so inferred frequency D will be used.\n",
      "  % freq, ValueWarning)\n",
      "/Users/Robin/anaconda3/envs/python36/lib/python3.6/site-packages/statsmodels/tsa/base/tsa_model.py:171: ValueWarning: No frequency information was provided, so inferred frequency D will be used.\n",
      "  % freq, ValueWarning)\n",
      "/Users/Robin/anaconda3/envs/python36/lib/python3.6/site-packages/statsmodels/tsa/base/tsa_model.py:171: ValueWarning: No frequency information was provided, so inferred frequency D will be used.\n",
      "  % freq, ValueWarning)\n",
      "/Users/Robin/anaconda3/envs/python36/lib/python3.6/site-packages/statsmodels/tsa/base/tsa_model.py:171: ValueWarning: No frequency information was provided, so inferred frequency D will be used.\n",
      "  % freq, ValueWarning)\n",
      "/Users/Robin/anaconda3/envs/python36/lib/python3.6/site-packages/statsmodels/tsa/base/tsa_model.py:171: ValueWarning: No frequency information was provided, so inferred frequency D will be used.\n",
      "  % freq, ValueWarning)\n",
      "/Users/Robin/anaconda3/envs/python36/lib/python3.6/site-packages/statsmodels/tsa/base/tsa_model.py:171: ValueWarning: No frequency information was provided, so inferred frequency D will be used.\n",
      "  % freq, ValueWarning)\n",
      "/Users/Robin/anaconda3/envs/python36/lib/python3.6/site-packages/statsmodels/tsa/base/tsa_model.py:171: ValueWarning: No frequency information was provided, so inferred frequency D will be used.\n",
      "  % freq, ValueWarning)\n",
      "/Users/Robin/anaconda3/envs/python36/lib/python3.6/site-packages/statsmodels/tsa/base/tsa_model.py:171: ValueWarning: No frequency information was provided, so inferred frequency D will be used.\n",
      "  % freq, ValueWarning)\n",
      "/Users/Robin/anaconda3/envs/python36/lib/python3.6/site-packages/statsmodels/tsa/base/tsa_model.py:171: ValueWarning: No frequency information was provided, so inferred frequency D will be used.\n",
      "  % freq, ValueWarning)\n",
      "/Users/Robin/anaconda3/envs/python36/lib/python3.6/site-packages/statsmodels/tsa/base/tsa_model.py:171: ValueWarning: No frequency information was provided, so inferred frequency D will be used.\n",
      "  % freq, ValueWarning)\n",
      "/Users/Robin/anaconda3/envs/python36/lib/python3.6/site-packages/statsmodels/tsa/base/tsa_model.py:171: ValueWarning: No frequency information was provided, so inferred frequency D will be used.\n",
      "  % freq, ValueWarning)\n",
      "/Users/Robin/anaconda3/envs/python36/lib/python3.6/site-packages/statsmodels/tsa/base/tsa_model.py:171: ValueWarning: No frequency information was provided, so inferred frequency D will be used.\n",
      "  % freq, ValueWarning)\n",
      "/Users/Robin/anaconda3/envs/python36/lib/python3.6/site-packages/statsmodels/tsa/base/tsa_model.py:171: ValueWarning: No frequency information was provided, so inferred frequency D will be used.\n",
      "  % freq, ValueWarning)\n",
      "/Users/Robin/anaconda3/envs/python36/lib/python3.6/site-packages/statsmodels/tsa/base/tsa_model.py:171: ValueWarning: No frequency information was provided, so inferred frequency D will be used.\n",
      "  % freq, ValueWarning)\n",
      "/Users/Robin/anaconda3/envs/python36/lib/python3.6/site-packages/statsmodels/tsa/base/tsa_model.py:171: ValueWarning: No frequency information was provided, so inferred frequency D will be used.\n",
      "  % freq, ValueWarning)\n",
      "/Users/Robin/anaconda3/envs/python36/lib/python3.6/site-packages/statsmodels/tsa/base/tsa_model.py:171: ValueWarning: No frequency information was provided, so inferred frequency D will be used.\n",
      "  % freq, ValueWarning)\n",
      "/Users/Robin/anaconda3/envs/python36/lib/python3.6/site-packages/statsmodels/tsa/base/tsa_model.py:171: ValueWarning: No frequency information was provided, so inferred frequency D will be used.\n",
      "  % freq, ValueWarning)\n",
      "/Users/Robin/anaconda3/envs/python36/lib/python3.6/site-packages/statsmodels/tsa/base/tsa_model.py:171: ValueWarning: No frequency information was provided, so inferred frequency D will be used.\n",
      "  % freq, ValueWarning)\n",
      "/Users/Robin/anaconda3/envs/python36/lib/python3.6/site-packages/statsmodels/tsa/base/tsa_model.py:171: ValueWarning: No frequency information was provided, so inferred frequency D will be used.\n",
      "  % freq, ValueWarning)\n",
      "/Users/Robin/anaconda3/envs/python36/lib/python3.6/site-packages/statsmodels/tsa/base/tsa_model.py:171: ValueWarning: No frequency information was provided, so inferred frequency D will be used.\n",
      "  % freq, ValueWarning)\n",
      "/Users/Robin/anaconda3/envs/python36/lib/python3.6/site-packages/statsmodels/tsa/base/tsa_model.py:171: ValueWarning: No frequency information was provided, so inferred frequency D will be used.\n",
      "  % freq, ValueWarning)\n",
      "/Users/Robin/anaconda3/envs/python36/lib/python3.6/site-packages/statsmodels/tsa/base/tsa_model.py:171: ValueWarning: No frequency information was provided, so inferred frequency D will be used.\n",
      "  % freq, ValueWarning)\n",
      "/Users/Robin/anaconda3/envs/python36/lib/python3.6/site-packages/statsmodels/tsa/base/tsa_model.py:171: ValueWarning: No frequency information was provided, so inferred frequency D will be used.\n",
      "  % freq, ValueWarning)\n",
      "/Users/Robin/anaconda3/envs/python36/lib/python3.6/site-packages/statsmodels/tsa/base/tsa_model.py:171: ValueWarning: No frequency information was provided, so inferred frequency D will be used.\n",
      "  % freq, ValueWarning)\n",
      "/Users/Robin/anaconda3/envs/python36/lib/python3.6/site-packages/statsmodels/tsa/base/tsa_model.py:171: ValueWarning: No frequency information was provided, so inferred frequency D will be used.\n",
      "  % freq, ValueWarning)\n",
      "/Users/Robin/anaconda3/envs/python36/lib/python3.6/site-packages/statsmodels/tsa/base/tsa_model.py:171: ValueWarning: No frequency information was provided, so inferred frequency D will be used.\n",
      "  % freq, ValueWarning)\n",
      "/Users/Robin/anaconda3/envs/python36/lib/python3.6/site-packages/statsmodels/tsa/base/tsa_model.py:171: ValueWarning: No frequency information was provided, so inferred frequency D will be used.\n",
      "  % freq, ValueWarning)\n",
      "/Users/Robin/anaconda3/envs/python36/lib/python3.6/site-packages/statsmodels/tsa/base/tsa_model.py:171: ValueWarning: No frequency information was provided, so inferred frequency D will be used.\n",
      "  % freq, ValueWarning)\n",
      "/Users/Robin/anaconda3/envs/python36/lib/python3.6/site-packages/statsmodels/tsa/base/tsa_model.py:171: ValueWarning: No frequency information was provided, so inferred frequency D will be used.\n",
      "  % freq, ValueWarning)\n",
      "/Users/Robin/anaconda3/envs/python36/lib/python3.6/site-packages/statsmodels/tsa/base/tsa_model.py:171: ValueWarning: No frequency information was provided, so inferred frequency D will be used.\n",
      "  % freq, ValueWarning)\n",
      "/Users/Robin/anaconda3/envs/python36/lib/python3.6/site-packages/statsmodels/tsa/base/tsa_model.py:171: ValueWarning: No frequency information was provided, so inferred frequency D will be used.\n",
      "  % freq, ValueWarning)\n",
      "/Users/Robin/anaconda3/envs/python36/lib/python3.6/site-packages/statsmodels/tsa/base/tsa_model.py:171: ValueWarning: No frequency information was provided, so inferred frequency D will be used.\n",
      "  % freq, ValueWarning)\n",
      "/Users/Robin/anaconda3/envs/python36/lib/python3.6/site-packages/statsmodels/tsa/base/tsa_model.py:171: ValueWarning: No frequency information was provided, so inferred frequency D will be used.\n",
      "  % freq, ValueWarning)\n",
      "/Users/Robin/anaconda3/envs/python36/lib/python3.6/site-packages/statsmodels/tsa/base/tsa_model.py:171: ValueWarning: No frequency information was provided, so inferred frequency D will be used.\n",
      "  % freq, ValueWarning)\n",
      "/Users/Robin/anaconda3/envs/python36/lib/python3.6/site-packages/statsmodels/tsa/base/tsa_model.py:171: ValueWarning: No frequency information was provided, so inferred frequency D will be used.\n",
      "  % freq, ValueWarning)\n",
      "/Users/Robin/anaconda3/envs/python36/lib/python3.6/site-packages/statsmodels/tsa/base/tsa_model.py:171: ValueWarning: No frequency information was provided, so inferred frequency D will be used.\n",
      "  % freq, ValueWarning)\n",
      "/Users/Robin/anaconda3/envs/python36/lib/python3.6/site-packages/statsmodels/tsa/base/tsa_model.py:171: ValueWarning: No frequency information was provided, so inferred frequency D will be used.\n",
      "  % freq, ValueWarning)\n",
      "/Users/Robin/anaconda3/envs/python36/lib/python3.6/site-packages/statsmodels/tsa/base/tsa_model.py:171: ValueWarning: No frequency information was provided, so inferred frequency D will be used.\n",
      "  % freq, ValueWarning)\n",
      "/Users/Robin/anaconda3/envs/python36/lib/python3.6/site-packages/statsmodels/tsa/base/tsa_model.py:171: ValueWarning: No frequency information was provided, so inferred frequency D will be used.\n",
      "  % freq, ValueWarning)\n",
      "/Users/Robin/anaconda3/envs/python36/lib/python3.6/site-packages/statsmodels/tsa/base/tsa_model.py:171: ValueWarning: No frequency information was provided, so inferred frequency D will be used.\n",
      "  % freq, ValueWarning)\n",
      "/Users/Robin/anaconda3/envs/python36/lib/python3.6/site-packages/statsmodels/tsa/base/tsa_model.py:171: ValueWarning: No frequency information was provided, so inferred frequency D will be used.\n",
      "  % freq, ValueWarning)\n",
      "/Users/Robin/anaconda3/envs/python36/lib/python3.6/site-packages/statsmodels/tsa/base/tsa_model.py:171: ValueWarning: No frequency information was provided, so inferred frequency D will be used.\n",
      "  % freq, ValueWarning)\n",
      "/Users/Robin/anaconda3/envs/python36/lib/python3.6/site-packages/statsmodels/tsa/base/tsa_model.py:171: ValueWarning: No frequency information was provided, so inferred frequency D will be used.\n",
      "  % freq, ValueWarning)\n",
      "/Users/Robin/anaconda3/envs/python36/lib/python3.6/site-packages/statsmodels/tsa/base/tsa_model.py:171: ValueWarning: No frequency information was provided, so inferred frequency D will be used.\n",
      "  % freq, ValueWarning)\n",
      "/Users/Robin/anaconda3/envs/python36/lib/python3.6/site-packages/statsmodels/tsa/base/tsa_model.py:171: ValueWarning: No frequency information was provided, so inferred frequency D will be used.\n",
      "  % freq, ValueWarning)\n",
      "/Users/Robin/anaconda3/envs/python36/lib/python3.6/site-packages/statsmodels/tsa/base/tsa_model.py:171: ValueWarning: No frequency information was provided, so inferred frequency D will be used.\n",
      "  % freq, ValueWarning)\n",
      "/Users/Robin/anaconda3/envs/python36/lib/python3.6/site-packages/statsmodels/tsa/base/tsa_model.py:171: ValueWarning: No frequency information was provided, so inferred frequency D will be used.\n",
      "  % freq, ValueWarning)\n",
      "/Users/Robin/anaconda3/envs/python36/lib/python3.6/site-packages/statsmodels/tsa/base/tsa_model.py:171: ValueWarning: No frequency information was provided, so inferred frequency D will be used.\n",
      "  % freq, ValueWarning)\n",
      "/Users/Robin/anaconda3/envs/python36/lib/python3.6/site-packages/statsmodels/tsa/base/tsa_model.py:171: ValueWarning: No frequency information was provided, so inferred frequency D will be used.\n",
      "  % freq, ValueWarning)\n",
      "/Users/Robin/anaconda3/envs/python36/lib/python3.6/site-packages/statsmodels/tsa/base/tsa_model.py:171: ValueWarning: No frequency information was provided, so inferred frequency D will be used.\n",
      "  % freq, ValueWarning)\n",
      "/Users/Robin/anaconda3/envs/python36/lib/python3.6/site-packages/statsmodels/tsa/base/tsa_model.py:171: ValueWarning: No frequency information was provided, so inferred frequency D will be used.\n",
      "  % freq, ValueWarning)\n",
      "/Users/Robin/anaconda3/envs/python36/lib/python3.6/site-packages/statsmodels/tsa/base/tsa_model.py:171: ValueWarning: No frequency information was provided, so inferred frequency D will be used.\n",
      "  % freq, ValueWarning)\n",
      "/Users/Robin/anaconda3/envs/python36/lib/python3.6/site-packages/statsmodels/tsa/base/tsa_model.py:171: ValueWarning: No frequency information was provided, so inferred frequency D will be used.\n",
      "  % freq, ValueWarning)\n",
      "/Users/Robin/anaconda3/envs/python36/lib/python3.6/site-packages/statsmodels/tsa/base/tsa_model.py:171: ValueWarning: No frequency information was provided, so inferred frequency D will be used.\n",
      "  % freq, ValueWarning)\n",
      "/Users/Robin/anaconda3/envs/python36/lib/python3.6/site-packages/statsmodels/tsa/base/tsa_model.py:171: ValueWarning: No frequency information was provided, so inferred frequency D will be used.\n",
      "  % freq, ValueWarning)\n",
      "/Users/Robin/anaconda3/envs/python36/lib/python3.6/site-packages/statsmodels/tsa/base/tsa_model.py:171: ValueWarning: No frequency information was provided, so inferred frequency D will be used.\n",
      "  % freq, ValueWarning)\n",
      "/Users/Robin/anaconda3/envs/python36/lib/python3.6/site-packages/statsmodels/tsa/base/tsa_model.py:171: ValueWarning: No frequency information was provided, so inferred frequency D will be used.\n",
      "  % freq, ValueWarning)\n",
      "/Users/Robin/anaconda3/envs/python36/lib/python3.6/site-packages/statsmodels/tsa/base/tsa_model.py:171: ValueWarning: No frequency information was provided, so inferred frequency D will be used.\n",
      "  % freq, ValueWarning)\n",
      "/Users/Robin/anaconda3/envs/python36/lib/python3.6/site-packages/statsmodels/tsa/base/tsa_model.py:171: ValueWarning: No frequency information was provided, so inferred frequency D will be used.\n",
      "  % freq, ValueWarning)\n",
      "/Users/Robin/anaconda3/envs/python36/lib/python3.6/site-packages/statsmodels/tsa/base/tsa_model.py:171: ValueWarning: No frequency information was provided, so inferred frequency D will be used.\n",
      "  % freq, ValueWarning)\n",
      "/Users/Robin/anaconda3/envs/python36/lib/python3.6/site-packages/statsmodels/tsa/base/tsa_model.py:171: ValueWarning: No frequency information was provided, so inferred frequency D will be used.\n",
      "  % freq, ValueWarning)\n",
      "/Users/Robin/anaconda3/envs/python36/lib/python3.6/site-packages/statsmodels/tsa/base/tsa_model.py:171: ValueWarning: No frequency information was provided, so inferred frequency D will be used.\n",
      "  % freq, ValueWarning)\n",
      "/Users/Robin/anaconda3/envs/python36/lib/python3.6/site-packages/statsmodels/tsa/base/tsa_model.py:171: ValueWarning: No frequency information was provided, so inferred frequency D will be used.\n",
      "  % freq, ValueWarning)\n",
      "/Users/Robin/anaconda3/envs/python36/lib/python3.6/site-packages/statsmodels/tsa/base/tsa_model.py:171: ValueWarning: No frequency information was provided, so inferred frequency D will be used.\n",
      "  % freq, ValueWarning)\n",
      "/Users/Robin/anaconda3/envs/python36/lib/python3.6/site-packages/statsmodels/tsa/base/tsa_model.py:171: ValueWarning: No frequency information was provided, so inferred frequency D will be used.\n",
      "  % freq, ValueWarning)\n",
      "/Users/Robin/anaconda3/envs/python36/lib/python3.6/site-packages/statsmodels/tsa/base/tsa_model.py:171: ValueWarning: No frequency information was provided, so inferred frequency D will be used.\n",
      "  % freq, ValueWarning)\n",
      "/Users/Robin/anaconda3/envs/python36/lib/python3.6/site-packages/statsmodels/tsa/base/tsa_model.py:171: ValueWarning: No frequency information was provided, so inferred frequency D will be used.\n",
      "  % freq, ValueWarning)\n",
      "/Users/Robin/anaconda3/envs/python36/lib/python3.6/site-packages/statsmodels/tsa/base/tsa_model.py:171: ValueWarning: No frequency information was provided, so inferred frequency D will be used.\n",
      "  % freq, ValueWarning)\n",
      "/Users/Robin/anaconda3/envs/python36/lib/python3.6/site-packages/statsmodels/tsa/base/tsa_model.py:171: ValueWarning: No frequency information was provided, so inferred frequency D will be used.\n",
      "  % freq, ValueWarning)\n",
      "/Users/Robin/anaconda3/envs/python36/lib/python3.6/site-packages/statsmodels/tsa/base/tsa_model.py:171: ValueWarning: No frequency information was provided, so inferred frequency D will be used.\n",
      "  % freq, ValueWarning)\n",
      "/Users/Robin/anaconda3/envs/python36/lib/python3.6/site-packages/statsmodels/tsa/base/tsa_model.py:171: ValueWarning: No frequency information was provided, so inferred frequency D will be used.\n",
      "  % freq, ValueWarning)\n",
      "/Users/Robin/anaconda3/envs/python36/lib/python3.6/site-packages/statsmodels/tsa/base/tsa_model.py:171: ValueWarning: No frequency information was provided, so inferred frequency D will be used.\n",
      "  % freq, ValueWarning)\n",
      "/Users/Robin/anaconda3/envs/python36/lib/python3.6/site-packages/statsmodels/tsa/base/tsa_model.py:171: ValueWarning: No frequency information was provided, so inferred frequency D will be used.\n",
      "  % freq, ValueWarning)\n",
      "/Users/Robin/anaconda3/envs/python36/lib/python3.6/site-packages/statsmodels/tsa/base/tsa_model.py:171: ValueWarning: No frequency information was provided, so inferred frequency D will be used.\n",
      "  % freq, ValueWarning)\n",
      "/Users/Robin/anaconda3/envs/python36/lib/python3.6/site-packages/statsmodels/tsa/base/tsa_model.py:171: ValueWarning: No frequency information was provided, so inferred frequency D will be used.\n",
      "  % freq, ValueWarning)\n",
      "/Users/Robin/anaconda3/envs/python36/lib/python3.6/site-packages/statsmodels/tsa/base/tsa_model.py:171: ValueWarning: No frequency information was provided, so inferred frequency D will be used.\n",
      "  % freq, ValueWarning)\n",
      "/Users/Robin/anaconda3/envs/python36/lib/python3.6/site-packages/statsmodels/tsa/base/tsa_model.py:171: ValueWarning: No frequency information was provided, so inferred frequency D will be used.\n",
      "  % freq, ValueWarning)\n",
      "/Users/Robin/anaconda3/envs/python36/lib/python3.6/site-packages/statsmodels/tsa/base/tsa_model.py:171: ValueWarning: No frequency information was provided, so inferred frequency D will be used.\n",
      "  % freq, ValueWarning)\n",
      "/Users/Robin/anaconda3/envs/python36/lib/python3.6/site-packages/statsmodels/tsa/base/tsa_model.py:171: ValueWarning: No frequency information was provided, so inferred frequency D will be used.\n",
      "  % freq, ValueWarning)\n",
      "/Users/Robin/anaconda3/envs/python36/lib/python3.6/site-packages/statsmodels/tsa/base/tsa_model.py:171: ValueWarning: No frequency information was provided, so inferred frequency D will be used.\n",
      "  % freq, ValueWarning)\n",
      "/Users/Robin/anaconda3/envs/python36/lib/python3.6/site-packages/statsmodels/tsa/base/tsa_model.py:171: ValueWarning: No frequency information was provided, so inferred frequency D will be used.\n",
      "  % freq, ValueWarning)\n",
      "/Users/Robin/anaconda3/envs/python36/lib/python3.6/site-packages/statsmodels/tsa/base/tsa_model.py:171: ValueWarning: No frequency information was provided, so inferred frequency D will be used.\n",
      "  % freq, ValueWarning)\n",
      "/Users/Robin/anaconda3/envs/python36/lib/python3.6/site-packages/statsmodels/tsa/base/tsa_model.py:171: ValueWarning: No frequency information was provided, so inferred frequency D will be used.\n",
      "  % freq, ValueWarning)\n",
      "/Users/Robin/anaconda3/envs/python36/lib/python3.6/site-packages/statsmodels/tsa/base/tsa_model.py:171: ValueWarning: No frequency information was provided, so inferred frequency D will be used.\n",
      "  % freq, ValueWarning)\n",
      "/Users/Robin/anaconda3/envs/python36/lib/python3.6/site-packages/statsmodels/base/model.py:488: HessianInversionWarning: Inverting hessian failed, no bse or cov_params available\n",
      "  'available', HessianInversionWarning)\n",
      "/Users/Robin/anaconda3/envs/python36/lib/python3.6/site-packages/statsmodels/tsa/base/tsa_model.py:171: ValueWarning: No frequency information was provided, so inferred frequency D will be used.\n",
      "  % freq, ValueWarning)\n",
      "/Users/Robin/anaconda3/envs/python36/lib/python3.6/site-packages/statsmodels/base/model.py:488: HessianInversionWarning: Inverting hessian failed, no bse or cov_params available\n",
      "  'available', HessianInversionWarning)\n",
      "/Users/Robin/anaconda3/envs/python36/lib/python3.6/site-packages/statsmodels/tsa/base/tsa_model.py:171: ValueWarning: No frequency information was provided, so inferred frequency D will be used.\n",
      "  % freq, ValueWarning)\n",
      "/Users/Robin/anaconda3/envs/python36/lib/python3.6/site-packages/statsmodels/tsa/base/tsa_model.py:171: ValueWarning: No frequency information was provided, so inferred frequency D will be used.\n",
      "  % freq, ValueWarning)\n",
      "/Users/Robin/anaconda3/envs/python36/lib/python3.6/site-packages/statsmodels/tsa/base/tsa_model.py:171: ValueWarning: No frequency information was provided, so inferred frequency D will be used.\n",
      "  % freq, ValueWarning)\n",
      "/Users/Robin/anaconda3/envs/python36/lib/python3.6/site-packages/statsmodels/tsa/base/tsa_model.py:171: ValueWarning: No frequency information was provided, so inferred frequency D will be used.\n",
      "  % freq, ValueWarning)\n",
      "/Users/Robin/anaconda3/envs/python36/lib/python3.6/site-packages/statsmodels/tsa/base/tsa_model.py:171: ValueWarning: No frequency information was provided, so inferred frequency D will be used.\n",
      "  % freq, ValueWarning)\n",
      "/Users/Robin/anaconda3/envs/python36/lib/python3.6/site-packages/statsmodels/tsa/base/tsa_model.py:171: ValueWarning: No frequency information was provided, so inferred frequency D will be used.\n",
      "  % freq, ValueWarning)\n",
      "/Users/Robin/anaconda3/envs/python36/lib/python3.6/site-packages/statsmodels/tsa/base/tsa_model.py:171: ValueWarning: No frequency information was provided, so inferred frequency D will be used.\n",
      "  % freq, ValueWarning)\n",
      "/Users/Robin/anaconda3/envs/python36/lib/python3.6/site-packages/statsmodels/tsa/base/tsa_model.py:171: ValueWarning: No frequency information was provided, so inferred frequency D will be used.\n",
      "  % freq, ValueWarning)\n",
      "/Users/Robin/anaconda3/envs/python36/lib/python3.6/site-packages/statsmodels/tsa/base/tsa_model.py:171: ValueWarning: No frequency information was provided, so inferred frequency D will be used.\n",
      "  % freq, ValueWarning)\n",
      "/Users/Robin/anaconda3/envs/python36/lib/python3.6/site-packages/statsmodels/tsa/base/tsa_model.py:171: ValueWarning: No frequency information was provided, so inferred frequency D will be used.\n",
      "  % freq, ValueWarning)\n",
      "/Users/Robin/anaconda3/envs/python36/lib/python3.6/site-packages/statsmodels/tsa/base/tsa_model.py:171: ValueWarning: No frequency information was provided, so inferred frequency D will be used.\n",
      "  % freq, ValueWarning)\n",
      "/Users/Robin/anaconda3/envs/python36/lib/python3.6/site-packages/statsmodels/tsa/base/tsa_model.py:171: ValueWarning: No frequency information was provided, so inferred frequency D will be used.\n",
      "  % freq, ValueWarning)\n",
      "/Users/Robin/anaconda3/envs/python36/lib/python3.6/site-packages/statsmodels/tsa/base/tsa_model.py:171: ValueWarning: No frequency information was provided, so inferred frequency D will be used.\n",
      "  % freq, ValueWarning)\n",
      "/Users/Robin/anaconda3/envs/python36/lib/python3.6/site-packages/statsmodels/tsa/base/tsa_model.py:171: ValueWarning: No frequency information was provided, so inferred frequency D will be used.\n",
      "  % freq, ValueWarning)\n",
      "/Users/Robin/anaconda3/envs/python36/lib/python3.6/site-packages/statsmodels/base/model.py:488: HessianInversionWarning: Inverting hessian failed, no bse or cov_params available\n",
      "  'available', HessianInversionWarning)\n",
      "/Users/Robin/anaconda3/envs/python36/lib/python3.6/site-packages/statsmodels/tsa/base/tsa_model.py:171: ValueWarning: No frequency information was provided, so inferred frequency D will be used.\n",
      "  % freq, ValueWarning)\n",
      "/Users/Robin/anaconda3/envs/python36/lib/python3.6/site-packages/statsmodels/tsa/base/tsa_model.py:171: ValueWarning: No frequency information was provided, so inferred frequency D will be used.\n",
      "  % freq, ValueWarning)\n",
      "/Users/Robin/anaconda3/envs/python36/lib/python3.6/site-packages/statsmodels/base/model.py:488: HessianInversionWarning: Inverting hessian failed, no bse or cov_params available\n",
      "  'available', HessianInversionWarning)\n",
      "/Users/Robin/anaconda3/envs/python36/lib/python3.6/site-packages/statsmodels/tsa/base/tsa_model.py:171: ValueWarning: No frequency information was provided, so inferred frequency D will be used.\n",
      "  % freq, ValueWarning)\n",
      "/Users/Robin/anaconda3/envs/python36/lib/python3.6/site-packages/statsmodels/tsa/base/tsa_model.py:171: ValueWarning: No frequency information was provided, so inferred frequency D will be used.\n",
      "  % freq, ValueWarning)\n",
      "/Users/Robin/anaconda3/envs/python36/lib/python3.6/site-packages/statsmodels/tsa/base/tsa_model.py:171: ValueWarning: No frequency information was provided, so inferred frequency D will be used.\n",
      "  % freq, ValueWarning)\n",
      "/Users/Robin/anaconda3/envs/python36/lib/python3.6/site-packages/statsmodels/tsa/base/tsa_model.py:171: ValueWarning: No frequency information was provided, so inferred frequency D will be used.\n",
      "  % freq, ValueWarning)\n",
      "/Users/Robin/anaconda3/envs/python36/lib/python3.6/site-packages/statsmodels/tsa/base/tsa_model.py:171: ValueWarning: No frequency information was provided, so inferred frequency D will be used.\n",
      "  % freq, ValueWarning)\n",
      "/Users/Robin/anaconda3/envs/python36/lib/python3.6/site-packages/statsmodels/tsa/base/tsa_model.py:171: ValueWarning: No frequency information was provided, so inferred frequency D will be used.\n",
      "  % freq, ValueWarning)\n",
      "/Users/Robin/anaconda3/envs/python36/lib/python3.6/site-packages/statsmodels/tsa/base/tsa_model.py:171: ValueWarning: No frequency information was provided, so inferred frequency D will be used.\n",
      "  % freq, ValueWarning)\n",
      "/Users/Robin/anaconda3/envs/python36/lib/python3.6/site-packages/statsmodels/tsa/base/tsa_model.py:171: ValueWarning: No frequency information was provided, so inferred frequency D will be used.\n",
      "  % freq, ValueWarning)\n",
      "/Users/Robin/anaconda3/envs/python36/lib/python3.6/site-packages/statsmodels/tsa/base/tsa_model.py:171: ValueWarning: No frequency information was provided, so inferred frequency D will be used.\n",
      "  % freq, ValueWarning)\n",
      "/Users/Robin/anaconda3/envs/python36/lib/python3.6/site-packages/statsmodels/tsa/base/tsa_model.py:171: ValueWarning: No frequency information was provided, so inferred frequency D will be used.\n",
      "  % freq, ValueWarning)\n",
      "/Users/Robin/anaconda3/envs/python36/lib/python3.6/site-packages/statsmodels/tsa/base/tsa_model.py:171: ValueWarning: No frequency information was provided, so inferred frequency D will be used.\n",
      "  % freq, ValueWarning)\n",
      "/Users/Robin/anaconda3/envs/python36/lib/python3.6/site-packages/statsmodels/tsa/base/tsa_model.py:171: ValueWarning: No frequency information was provided, so inferred frequency D will be used.\n",
      "  % freq, ValueWarning)\n",
      "/Users/Robin/anaconda3/envs/python36/lib/python3.6/site-packages/statsmodels/tsa/base/tsa_model.py:171: ValueWarning: No frequency information was provided, so inferred frequency D will be used.\n",
      "  % freq, ValueWarning)\n",
      "/Users/Robin/anaconda3/envs/python36/lib/python3.6/site-packages/statsmodels/tsa/base/tsa_model.py:171: ValueWarning: No frequency information was provided, so inferred frequency D will be used.\n",
      "  % freq, ValueWarning)\n",
      "/Users/Robin/anaconda3/envs/python36/lib/python3.6/site-packages/statsmodels/base/model.py:488: HessianInversionWarning: Inverting hessian failed, no bse or cov_params available\n",
      "  'available', HessianInversionWarning)\n",
      "/Users/Robin/anaconda3/envs/python36/lib/python3.6/site-packages/statsmodels/tsa/base/tsa_model.py:171: ValueWarning: No frequency information was provided, so inferred frequency D will be used.\n",
      "  % freq, ValueWarning)\n",
      "/Users/Robin/anaconda3/envs/python36/lib/python3.6/site-packages/statsmodels/base/model.py:488: HessianInversionWarning: Inverting hessian failed, no bse or cov_params available\n",
      "  'available', HessianInversionWarning)\n",
      "/Users/Robin/anaconda3/envs/python36/lib/python3.6/site-packages/statsmodels/tsa/base/tsa_model.py:171: ValueWarning: No frequency information was provided, so inferred frequency D will be used.\n",
      "  % freq, ValueWarning)\n",
      "/Users/Robin/anaconda3/envs/python36/lib/python3.6/site-packages/statsmodels/tsa/base/tsa_model.py:171: ValueWarning: No frequency information was provided, so inferred frequency D will be used.\n",
      "  % freq, ValueWarning)\n",
      "/Users/Robin/anaconda3/envs/python36/lib/python3.6/site-packages/statsmodels/base/model.py:488: HessianInversionWarning: Inverting hessian failed, no bse or cov_params available\n",
      "  'available', HessianInversionWarning)\n",
      "/Users/Robin/anaconda3/envs/python36/lib/python3.6/site-packages/statsmodels/tsa/base/tsa_model.py:171: ValueWarning: No frequency information was provided, so inferred frequency D will be used.\n",
      "  % freq, ValueWarning)\n",
      "/Users/Robin/anaconda3/envs/python36/lib/python3.6/site-packages/statsmodels/tsa/base/tsa_model.py:171: ValueWarning: No frequency information was provided, so inferred frequency D will be used.\n",
      "  % freq, ValueWarning)\n",
      "/Users/Robin/anaconda3/envs/python36/lib/python3.6/site-packages/statsmodels/tsa/base/tsa_model.py:171: ValueWarning: No frequency information was provided, so inferred frequency D will be used.\n",
      "  % freq, ValueWarning)\n",
      "/Users/Robin/anaconda3/envs/python36/lib/python3.6/site-packages/statsmodels/tsa/base/tsa_model.py:171: ValueWarning: No frequency information was provided, so inferred frequency D will be used.\n",
      "  % freq, ValueWarning)\n",
      "/Users/Robin/anaconda3/envs/python36/lib/python3.6/site-packages/statsmodels/tsa/base/tsa_model.py:171: ValueWarning: No frequency information was provided, so inferred frequency D will be used.\n",
      "  % freq, ValueWarning)\n",
      "/Users/Robin/anaconda3/envs/python36/lib/python3.6/site-packages/statsmodels/tsa/base/tsa_model.py:171: ValueWarning: No frequency information was provided, so inferred frequency D will be used.\n",
      "  % freq, ValueWarning)\n",
      "/Users/Robin/anaconda3/envs/python36/lib/python3.6/site-packages/statsmodels/tsa/base/tsa_model.py:171: ValueWarning: No frequency information was provided, so inferred frequency D will be used.\n",
      "  % freq, ValueWarning)\n",
      "/Users/Robin/anaconda3/envs/python36/lib/python3.6/site-packages/statsmodels/tsa/base/tsa_model.py:171: ValueWarning: No frequency information was provided, so inferred frequency D will be used.\n",
      "  % freq, ValueWarning)\n",
      "/Users/Robin/anaconda3/envs/python36/lib/python3.6/site-packages/statsmodels/tsa/base/tsa_model.py:171: ValueWarning: No frequency information was provided, so inferred frequency D will be used.\n",
      "  % freq, ValueWarning)\n",
      "/Users/Robin/anaconda3/envs/python36/lib/python3.6/site-packages/statsmodels/tsa/base/tsa_model.py:171: ValueWarning: No frequency information was provided, so inferred frequency D will be used.\n",
      "  % freq, ValueWarning)\n",
      "/Users/Robin/anaconda3/envs/python36/lib/python3.6/site-packages/statsmodels/tsa/base/tsa_model.py:171: ValueWarning: No frequency information was provided, so inferred frequency D will be used.\n",
      "  % freq, ValueWarning)\n",
      "/Users/Robin/anaconda3/envs/python36/lib/python3.6/site-packages/statsmodels/tsa/base/tsa_model.py:171: ValueWarning: No frequency information was provided, so inferred frequency D will be used.\n",
      "  % freq, ValueWarning)\n",
      "/Users/Robin/anaconda3/envs/python36/lib/python3.6/site-packages/statsmodels/tsa/base/tsa_model.py:171: ValueWarning: No frequency information was provided, so inferred frequency D will be used.\n",
      "  % freq, ValueWarning)\n",
      "/Users/Robin/anaconda3/envs/python36/lib/python3.6/site-packages/statsmodels/base/model.py:488: HessianInversionWarning: Inverting hessian failed, no bse or cov_params available\n",
      "  'available', HessianInversionWarning)\n",
      "/Users/Robin/anaconda3/envs/python36/lib/python3.6/site-packages/statsmodels/tsa/base/tsa_model.py:171: ValueWarning: No frequency information was provided, so inferred frequency D will be used.\n",
      "  % freq, ValueWarning)\n",
      "/Users/Robin/anaconda3/envs/python36/lib/python3.6/site-packages/statsmodels/base/model.py:488: HessianInversionWarning: Inverting hessian failed, no bse or cov_params available\n",
      "  'available', HessianInversionWarning)\n",
      "/Users/Robin/anaconda3/envs/python36/lib/python3.6/site-packages/statsmodels/tsa/base/tsa_model.py:171: ValueWarning: No frequency information was provided, so inferred frequency D will be used.\n",
      "  % freq, ValueWarning)\n",
      "/Users/Robin/anaconda3/envs/python36/lib/python3.6/site-packages/statsmodels/base/model.py:488: HessianInversionWarning: Inverting hessian failed, no bse or cov_params available\n",
      "  'available', HessianInversionWarning)\n",
      "/Users/Robin/anaconda3/envs/python36/lib/python3.6/site-packages/statsmodels/tsa/base/tsa_model.py:171: ValueWarning: No frequency information was provided, so inferred frequency D will be used.\n",
      "  % freq, ValueWarning)\n",
      "/Users/Robin/anaconda3/envs/python36/lib/python3.6/site-packages/statsmodels/tsa/base/tsa_model.py:171: ValueWarning: No frequency information was provided, so inferred frequency D will be used.\n",
      "  % freq, ValueWarning)\n",
      "/Users/Robin/anaconda3/envs/python36/lib/python3.6/site-packages/statsmodels/tsa/base/tsa_model.py:171: ValueWarning: No frequency information was provided, so inferred frequency D will be used.\n",
      "  % freq, ValueWarning)\n",
      "/Users/Robin/anaconda3/envs/python36/lib/python3.6/site-packages/statsmodels/tsa/base/tsa_model.py:171: ValueWarning: No frequency information was provided, so inferred frequency D will be used.\n",
      "  % freq, ValueWarning)\n",
      "/Users/Robin/anaconda3/envs/python36/lib/python3.6/site-packages/statsmodels/tsa/base/tsa_model.py:171: ValueWarning: No frequency information was provided, so inferred frequency D will be used.\n",
      "  % freq, ValueWarning)\n",
      "/Users/Robin/anaconda3/envs/python36/lib/python3.6/site-packages/statsmodels/tsa/base/tsa_model.py:171: ValueWarning: No frequency information was provided, so inferred frequency D will be used.\n",
      "  % freq, ValueWarning)\n",
      "/Users/Robin/anaconda3/envs/python36/lib/python3.6/site-packages/statsmodels/tsa/base/tsa_model.py:171: ValueWarning: No frequency information was provided, so inferred frequency D will be used.\n",
      "  % freq, ValueWarning)\n",
      "/Users/Robin/anaconda3/envs/python36/lib/python3.6/site-packages/statsmodels/tsa/base/tsa_model.py:171: ValueWarning: No frequency information was provided, so inferred frequency D will be used.\n",
      "  % freq, ValueWarning)\n",
      "/Users/Robin/anaconda3/envs/python36/lib/python3.6/site-packages/statsmodels/tsa/base/tsa_model.py:171: ValueWarning: No frequency information was provided, so inferred frequency D will be used.\n",
      "  % freq, ValueWarning)\n",
      "/Users/Robin/anaconda3/envs/python36/lib/python3.6/site-packages/statsmodels/tsa/base/tsa_model.py:171: ValueWarning: No frequency information was provided, so inferred frequency D will be used.\n",
      "  % freq, ValueWarning)\n",
      "/Users/Robin/anaconda3/envs/python36/lib/python3.6/site-packages/statsmodels/tsa/base/tsa_model.py:171: ValueWarning: No frequency information was provided, so inferred frequency D will be used.\n",
      "  % freq, ValueWarning)\n",
      "/Users/Robin/anaconda3/envs/python36/lib/python3.6/site-packages/statsmodels/tsa/base/tsa_model.py:171: ValueWarning: No frequency information was provided, so inferred frequency D will be used.\n",
      "  % freq, ValueWarning)\n",
      "/Users/Robin/anaconda3/envs/python36/lib/python3.6/site-packages/statsmodels/base/model.py:488: HessianInversionWarning: Inverting hessian failed, no bse or cov_params available\n",
      "  'available', HessianInversionWarning)\n",
      "/Users/Robin/anaconda3/envs/python36/lib/python3.6/site-packages/statsmodels/tsa/base/tsa_model.py:171: ValueWarning: No frequency information was provided, so inferred frequency D will be used.\n",
      "  % freq, ValueWarning)\n",
      "/Users/Robin/anaconda3/envs/python36/lib/python3.6/site-packages/statsmodels/base/model.py:508: ConvergenceWarning: Maximum Likelihood optimization failed to converge. Check mle_retvals\n",
      "  \"Check mle_retvals\", ConvergenceWarning)\n",
      "/Users/Robin/anaconda3/envs/python36/lib/python3.6/site-packages/statsmodels/tsa/base/tsa_model.py:171: ValueWarning: No frequency information was provided, so inferred frequency D will be used.\n",
      "  % freq, ValueWarning)\n",
      "/Users/Robin/anaconda3/envs/python36/lib/python3.6/site-packages/statsmodels/base/model.py:488: HessianInversionWarning: Inverting hessian failed, no bse or cov_params available\n",
      "  'available', HessianInversionWarning)\n",
      "/Users/Robin/anaconda3/envs/python36/lib/python3.6/site-packages/statsmodels/tsa/base/tsa_model.py:171: ValueWarning: No frequency information was provided, so inferred frequency D will be used.\n",
      "  % freq, ValueWarning)\n",
      "/Users/Robin/anaconda3/envs/python36/lib/python3.6/site-packages/statsmodels/base/model.py:488: HessianInversionWarning: Inverting hessian failed, no bse or cov_params available\n",
      "  'available', HessianInversionWarning)\n",
      "/Users/Robin/anaconda3/envs/python36/lib/python3.6/site-packages/statsmodels/tsa/base/tsa_model.py:171: ValueWarning: No frequency information was provided, so inferred frequency D will be used.\n",
      "  % freq, ValueWarning)\n",
      "/Users/Robin/anaconda3/envs/python36/lib/python3.6/site-packages/statsmodels/tsa/base/tsa_model.py:171: ValueWarning: No frequency information was provided, so inferred frequency D will be used.\n",
      "  % freq, ValueWarning)\n",
      "/Users/Robin/anaconda3/envs/python36/lib/python3.6/site-packages/statsmodels/tsa/base/tsa_model.py:171: ValueWarning: No frequency information was provided, so inferred frequency D will be used.\n",
      "  % freq, ValueWarning)\n",
      "/Users/Robin/anaconda3/envs/python36/lib/python3.6/site-packages/statsmodels/tsa/base/tsa_model.py:171: ValueWarning: No frequency information was provided, so inferred frequency D will be used.\n",
      "  % freq, ValueWarning)\n",
      "/Users/Robin/anaconda3/envs/python36/lib/python3.6/site-packages/statsmodels/tsa/base/tsa_model.py:171: ValueWarning: No frequency information was provided, so inferred frequency D will be used.\n",
      "  % freq, ValueWarning)\n",
      "/Users/Robin/anaconda3/envs/python36/lib/python3.6/site-packages/statsmodels/tsa/base/tsa_model.py:171: ValueWarning: No frequency information was provided, so inferred frequency D will be used.\n",
      "  % freq, ValueWarning)\n",
      "/Users/Robin/anaconda3/envs/python36/lib/python3.6/site-packages/statsmodels/tsa/base/tsa_model.py:171: ValueWarning: No frequency information was provided, so inferred frequency D will be used.\n",
      "  % freq, ValueWarning)\n",
      "/Users/Robin/anaconda3/envs/python36/lib/python3.6/site-packages/statsmodels/tsa/base/tsa_model.py:171: ValueWarning: No frequency information was provided, so inferred frequency D will be used.\n",
      "  % freq, ValueWarning)\n",
      "/Users/Robin/anaconda3/envs/python36/lib/python3.6/site-packages/statsmodels/tsa/base/tsa_model.py:171: ValueWarning: No frequency information was provided, so inferred frequency D will be used.\n",
      "  % freq, ValueWarning)\n",
      "/Users/Robin/anaconda3/envs/python36/lib/python3.6/site-packages/statsmodels/tsa/base/tsa_model.py:171: ValueWarning: No frequency information was provided, so inferred frequency D will be used.\n",
      "  % freq, ValueWarning)\n",
      "/Users/Robin/anaconda3/envs/python36/lib/python3.6/site-packages/statsmodels/tsa/base/tsa_model.py:171: ValueWarning: No frequency information was provided, so inferred frequency D will be used.\n",
      "  % freq, ValueWarning)\n",
      "/Users/Robin/anaconda3/envs/python36/lib/python3.6/site-packages/statsmodels/tsa/base/tsa_model.py:171: ValueWarning: No frequency information was provided, so inferred frequency D will be used.\n",
      "  % freq, ValueWarning)\n",
      "/Users/Robin/anaconda3/envs/python36/lib/python3.6/site-packages/statsmodels/tsa/base/tsa_model.py:171: ValueWarning: No frequency information was provided, so inferred frequency D will be used.\n",
      "  % freq, ValueWarning)\n",
      "/Users/Robin/anaconda3/envs/python36/lib/python3.6/site-packages/statsmodels/base/model.py:488: HessianInversionWarning: Inverting hessian failed, no bse or cov_params available\n",
      "  'available', HessianInversionWarning)\n",
      "/Users/Robin/anaconda3/envs/python36/lib/python3.6/site-packages/statsmodels/tsa/base/tsa_model.py:171: ValueWarning: No frequency information was provided, so inferred frequency D will be used.\n",
      "  % freq, ValueWarning)\n",
      "/Users/Robin/anaconda3/envs/python36/lib/python3.6/site-packages/statsmodels/tsa/base/tsa_model.py:171: ValueWarning: No frequency information was provided, so inferred frequency D will be used.\n",
      "  % freq, ValueWarning)\n",
      "/Users/Robin/anaconda3/envs/python36/lib/python3.6/site-packages/statsmodels/base/model.py:508: ConvergenceWarning: Maximum Likelihood optimization failed to converge. Check mle_retvals\n",
      "  \"Check mle_retvals\", ConvergenceWarning)\n",
      "/Users/Robin/anaconda3/envs/python36/lib/python3.6/site-packages/statsmodels/tsa/base/tsa_model.py:171: ValueWarning: No frequency information was provided, so inferred frequency D will be used.\n",
      "  % freq, ValueWarning)\n",
      "/Users/Robin/anaconda3/envs/python36/lib/python3.6/site-packages/statsmodels/base/model.py:488: HessianInversionWarning: Inverting hessian failed, no bse or cov_params available\n",
      "  'available', HessianInversionWarning)\n",
      "/Users/Robin/anaconda3/envs/python36/lib/python3.6/site-packages/statsmodels/tsa/base/tsa_model.py:171: ValueWarning: No frequency information was provided, so inferred frequency D will be used.\n",
      "  % freq, ValueWarning)\n",
      "/Users/Robin/anaconda3/envs/python36/lib/python3.6/site-packages/statsmodels/base/model.py:508: ConvergenceWarning: Maximum Likelihood optimization failed to converge. Check mle_retvals\n",
      "  \"Check mle_retvals\", ConvergenceWarning)\n",
      "/Users/Robin/anaconda3/envs/python36/lib/python3.6/site-packages/statsmodels/tsa/base/tsa_model.py:171: ValueWarning: No frequency information was provided, so inferred frequency D will be used.\n",
      "  % freq, ValueWarning)\n",
      "/Users/Robin/anaconda3/envs/python36/lib/python3.6/site-packages/statsmodels/base/model.py:488: HessianInversionWarning: Inverting hessian failed, no bse or cov_params available\n",
      "  'available', HessianInversionWarning)\n",
      "/Users/Robin/anaconda3/envs/python36/lib/python3.6/site-packages/statsmodels/base/model.py:508: ConvergenceWarning: Maximum Likelihood optimization failed to converge. Check mle_retvals\n",
      "  \"Check mle_retvals\", ConvergenceWarning)\n",
      "/Users/Robin/anaconda3/envs/python36/lib/python3.6/site-packages/statsmodels/tsa/base/tsa_model.py:171: ValueWarning: No frequency information was provided, so inferred frequency D will be used.\n",
      "  % freq, ValueWarning)\n",
      "/Users/Robin/anaconda3/envs/python36/lib/python3.6/site-packages/statsmodels/base/model.py:488: HessianInversionWarning: Inverting hessian failed, no bse or cov_params available\n",
      "  'available', HessianInversionWarning)\n",
      "/Users/Robin/anaconda3/envs/python36/lib/python3.6/site-packages/statsmodels/base/model.py:508: ConvergenceWarning: Maximum Likelihood optimization failed to converge. Check mle_retvals\n",
      "  \"Check mle_retvals\", ConvergenceWarning)\n",
      "/Users/Robin/anaconda3/envs/python36/lib/python3.6/site-packages/statsmodels/tsa/base/tsa_model.py:171: ValueWarning: No frequency information was provided, so inferred frequency D will be used.\n",
      "  % freq, ValueWarning)\n",
      "/Users/Robin/anaconda3/envs/python36/lib/python3.6/site-packages/statsmodels/tsa/base/tsa_model.py:171: ValueWarning: No frequency information was provided, so inferred frequency D will be used.\n",
      "  % freq, ValueWarning)\n",
      "/Users/Robin/anaconda3/envs/python36/lib/python3.6/site-packages/statsmodels/tsa/base/tsa_model.py:171: ValueWarning: No frequency information was provided, so inferred frequency D will be used.\n",
      "  % freq, ValueWarning)\n",
      "/Users/Robin/anaconda3/envs/python36/lib/python3.6/site-packages/statsmodels/tsa/base/tsa_model.py:171: ValueWarning: No frequency information was provided, so inferred frequency D will be used.\n",
      "  % freq, ValueWarning)\n",
      "/Users/Robin/anaconda3/envs/python36/lib/python3.6/site-packages/statsmodels/tsa/base/tsa_model.py:171: ValueWarning: No frequency information was provided, so inferred frequency D will be used.\n",
      "  % freq, ValueWarning)\n",
      "/Users/Robin/anaconda3/envs/python36/lib/python3.6/site-packages/statsmodels/tsa/base/tsa_model.py:171: ValueWarning: No frequency information was provided, so inferred frequency D will be used.\n",
      "  % freq, ValueWarning)\n",
      "/Users/Robin/anaconda3/envs/python36/lib/python3.6/site-packages/statsmodels/tsa/base/tsa_model.py:171: ValueWarning: No frequency information was provided, so inferred frequency D will be used.\n",
      "  % freq, ValueWarning)\n",
      "/Users/Robin/anaconda3/envs/python36/lib/python3.6/site-packages/statsmodels/tsa/base/tsa_model.py:171: ValueWarning: No frequency information was provided, so inferred frequency D will be used.\n",
      "  % freq, ValueWarning)\n",
      "/Users/Robin/anaconda3/envs/python36/lib/python3.6/site-packages/statsmodels/base/model.py:488: HessianInversionWarning: Inverting hessian failed, no bse or cov_params available\n",
      "  'available', HessianInversionWarning)\n",
      "/Users/Robin/anaconda3/envs/python36/lib/python3.6/site-packages/statsmodels/tsa/base/tsa_model.py:171: ValueWarning: No frequency information was provided, so inferred frequency D will be used.\n",
      "  % freq, ValueWarning)\n",
      "/Users/Robin/anaconda3/envs/python36/lib/python3.6/site-packages/statsmodels/base/model.py:488: HessianInversionWarning: Inverting hessian failed, no bse or cov_params available\n",
      "  'available', HessianInversionWarning)\n",
      "/Users/Robin/anaconda3/envs/python36/lib/python3.6/site-packages/statsmodels/tsa/base/tsa_model.py:171: ValueWarning: No frequency information was provided, so inferred frequency D will be used.\n",
      "  % freq, ValueWarning)\n",
      "/Users/Robin/anaconda3/envs/python36/lib/python3.6/site-packages/statsmodels/tsa/base/tsa_model.py:171: ValueWarning: No frequency information was provided, so inferred frequency D will be used.\n",
      "  % freq, ValueWarning)\n",
      "/Users/Robin/anaconda3/envs/python36/lib/python3.6/site-packages/statsmodels/base/model.py:508: ConvergenceWarning: Maximum Likelihood optimization failed to converge. Check mle_retvals\n",
      "  \"Check mle_retvals\", ConvergenceWarning)\n",
      "/Users/Robin/anaconda3/envs/python36/lib/python3.6/site-packages/statsmodels/tsa/base/tsa_model.py:171: ValueWarning: No frequency information was provided, so inferred frequency D will be used.\n",
      "  % freq, ValueWarning)\n",
      "/Users/Robin/anaconda3/envs/python36/lib/python3.6/site-packages/statsmodels/base/model.py:488: HessianInversionWarning: Inverting hessian failed, no bse or cov_params available\n",
      "  'available', HessianInversionWarning)\n",
      "/Users/Robin/anaconda3/envs/python36/lib/python3.6/site-packages/statsmodels/base/model.py:508: ConvergenceWarning: Maximum Likelihood optimization failed to converge. Check mle_retvals\n",
      "  \"Check mle_retvals\", ConvergenceWarning)\n",
      "/Users/Robin/anaconda3/envs/python36/lib/python3.6/site-packages/statsmodels/tsa/base/tsa_model.py:171: ValueWarning: No frequency information was provided, so inferred frequency D will be used.\n",
      "  % freq, ValueWarning)\n",
      "/Users/Robin/anaconda3/envs/python36/lib/python3.6/site-packages/statsmodels/base/model.py:508: ConvergenceWarning: Maximum Likelihood optimization failed to converge. Check mle_retvals\n",
      "  \"Check mle_retvals\", ConvergenceWarning)\n",
      "/Users/Robin/anaconda3/envs/python36/lib/python3.6/site-packages/statsmodels/tsa/base/tsa_model.py:171: ValueWarning: No frequency information was provided, so inferred frequency D will be used.\n",
      "  % freq, ValueWarning)\n",
      "/Users/Robin/anaconda3/envs/python36/lib/python3.6/site-packages/statsmodels/base/model.py:488: HessianInversionWarning: Inverting hessian failed, no bse or cov_params available\n",
      "  'available', HessianInversionWarning)\n",
      "/Users/Robin/anaconda3/envs/python36/lib/python3.6/site-packages/statsmodels/base/model.py:508: ConvergenceWarning: Maximum Likelihood optimization failed to converge. Check mle_retvals\n",
      "  \"Check mle_retvals\", ConvergenceWarning)\n",
      "/Users/Robin/anaconda3/envs/python36/lib/python3.6/site-packages/statsmodels/tsa/base/tsa_model.py:171: ValueWarning: No frequency information was provided, so inferred frequency D will be used.\n",
      "  % freq, ValueWarning)\n",
      "/Users/Robin/anaconda3/envs/python36/lib/python3.6/site-packages/statsmodels/base/model.py:488: HessianInversionWarning: Inverting hessian failed, no bse or cov_params available\n",
      "  'available', HessianInversionWarning)\n",
      "/Users/Robin/anaconda3/envs/python36/lib/python3.6/site-packages/statsmodels/base/model.py:508: ConvergenceWarning: Maximum Likelihood optimization failed to converge. Check mle_retvals\n",
      "  \"Check mle_retvals\", ConvergenceWarning)\n",
      "/Users/Robin/anaconda3/envs/python36/lib/python3.6/site-packages/statsmodels/tsa/base/tsa_model.py:171: ValueWarning: No frequency information was provided, so inferred frequency D will be used.\n",
      "  % freq, ValueWarning)\n",
      "/Users/Robin/anaconda3/envs/python36/lib/python3.6/site-packages/statsmodels/tsa/base/tsa_model.py:171: ValueWarning: No frequency information was provided, so inferred frequency D will be used.\n",
      "  % freq, ValueWarning)\n",
      "/Users/Robin/anaconda3/envs/python36/lib/python3.6/site-packages/statsmodels/tsa/base/tsa_model.py:171: ValueWarning: No frequency information was provided, so inferred frequency D will be used.\n",
      "  % freq, ValueWarning)\n",
      "/Users/Robin/anaconda3/envs/python36/lib/python3.6/site-packages/statsmodels/tsa/base/tsa_model.py:171: ValueWarning: No frequency information was provided, so inferred frequency D will be used.\n",
      "  % freq, ValueWarning)\n",
      "/Users/Robin/anaconda3/envs/python36/lib/python3.6/site-packages/statsmodels/tsa/base/tsa_model.py:171: ValueWarning: No frequency information was provided, so inferred frequency D will be used.\n",
      "  % freq, ValueWarning)\n",
      "/Users/Robin/anaconda3/envs/python36/lib/python3.6/site-packages/statsmodels/tsa/base/tsa_model.py:171: ValueWarning: No frequency information was provided, so inferred frequency D will be used.\n",
      "  % freq, ValueWarning)\n",
      "/Users/Robin/anaconda3/envs/python36/lib/python3.6/site-packages/statsmodels/tsa/base/tsa_model.py:171: ValueWarning: No frequency information was provided, so inferred frequency D will be used.\n",
      "  % freq, ValueWarning)\n",
      "/Users/Robin/anaconda3/envs/python36/lib/python3.6/site-packages/statsmodels/tsa/base/tsa_model.py:171: ValueWarning: No frequency information was provided, so inferred frequency D will be used.\n",
      "  % freq, ValueWarning)\n",
      "/Users/Robin/anaconda3/envs/python36/lib/python3.6/site-packages/statsmodels/tsa/base/tsa_model.py:171: ValueWarning: No frequency information was provided, so inferred frequency D will be used.\n",
      "  % freq, ValueWarning)\n",
      "/Users/Robin/anaconda3/envs/python36/lib/python3.6/site-packages/statsmodels/base/model.py:488: HessianInversionWarning: Inverting hessian failed, no bse or cov_params available\n",
      "  'available', HessianInversionWarning)\n",
      "/Users/Robin/anaconda3/envs/python36/lib/python3.6/site-packages/statsmodels/base/model.py:508: ConvergenceWarning: Maximum Likelihood optimization failed to converge. Check mle_retvals\n",
      "  \"Check mle_retvals\", ConvergenceWarning)\n",
      "/Users/Robin/anaconda3/envs/python36/lib/python3.6/site-packages/statsmodels/tsa/base/tsa_model.py:171: ValueWarning: No frequency information was provided, so inferred frequency D will be used.\n",
      "  % freq, ValueWarning)\n",
      "/Users/Robin/anaconda3/envs/python36/lib/python3.6/site-packages/statsmodels/tsa/base/tsa_model.py:171: ValueWarning: No frequency information was provided, so inferred frequency D will be used.\n",
      "  % freq, ValueWarning)\n",
      "/Users/Robin/anaconda3/envs/python36/lib/python3.6/site-packages/statsmodels/base/model.py:508: ConvergenceWarning: Maximum Likelihood optimization failed to converge. Check mle_retvals\n",
      "  \"Check mle_retvals\", ConvergenceWarning)\n",
      "/Users/Robin/anaconda3/envs/python36/lib/python3.6/site-packages/statsmodels/tsa/base/tsa_model.py:171: ValueWarning: No frequency information was provided, so inferred frequency D will be used.\n",
      "  % freq, ValueWarning)\n",
      "/Users/Robin/anaconda3/envs/python36/lib/python3.6/site-packages/statsmodels/base/model.py:488: HessianInversionWarning: Inverting hessian failed, no bse or cov_params available\n",
      "  'available', HessianInversionWarning)\n",
      "/Users/Robin/anaconda3/envs/python36/lib/python3.6/site-packages/statsmodels/base/model.py:508: ConvergenceWarning: Maximum Likelihood optimization failed to converge. Check mle_retvals\n",
      "  \"Check mle_retvals\", ConvergenceWarning)\n",
      "/Users/Robin/anaconda3/envs/python36/lib/python3.6/site-packages/statsmodels/tsa/base/tsa_model.py:171: ValueWarning: No frequency information was provided, so inferred frequency D will be used.\n",
      "  % freq, ValueWarning)\n",
      "/Users/Robin/anaconda3/envs/python36/lib/python3.6/site-packages/statsmodels/base/model.py:488: HessianInversionWarning: Inverting hessian failed, no bse or cov_params available\n",
      "  'available', HessianInversionWarning)\n",
      "/Users/Robin/anaconda3/envs/python36/lib/python3.6/site-packages/statsmodels/base/model.py:508: ConvergenceWarning: Maximum Likelihood optimization failed to converge. Check mle_retvals\n",
      "  \"Check mle_retvals\", ConvergenceWarning)\n",
      "/Users/Robin/anaconda3/envs/python36/lib/python3.6/site-packages/statsmodels/tsa/base/tsa_model.py:171: ValueWarning: No frequency information was provided, so inferred frequency D will be used.\n",
      "  % freq, ValueWarning)\n",
      "/Users/Robin/anaconda3/envs/python36/lib/python3.6/site-packages/statsmodels/base/model.py:488: HessianInversionWarning: Inverting hessian failed, no bse or cov_params available\n",
      "  'available', HessianInversionWarning)\n",
      "/Users/Robin/anaconda3/envs/python36/lib/python3.6/site-packages/statsmodels/base/model.py:508: ConvergenceWarning: Maximum Likelihood optimization failed to converge. Check mle_retvals\n",
      "  \"Check mle_retvals\", ConvergenceWarning)\n",
      "/Users/Robin/anaconda3/envs/python36/lib/python3.6/site-packages/statsmodels/tsa/base/tsa_model.py:171: ValueWarning: No frequency information was provided, so inferred frequency D will be used.\n",
      "  % freq, ValueWarning)\n",
      "/Users/Robin/anaconda3/envs/python36/lib/python3.6/site-packages/statsmodels/base/model.py:488: HessianInversionWarning: Inverting hessian failed, no bse or cov_params available\n",
      "  'available', HessianInversionWarning)\n",
      "/Users/Robin/anaconda3/envs/python36/lib/python3.6/site-packages/statsmodels/base/model.py:508: ConvergenceWarning: Maximum Likelihood optimization failed to converge. Check mle_retvals\n",
      "  \"Check mle_retvals\", ConvergenceWarning)\n",
      "/Users/Robin/anaconda3/envs/python36/lib/python3.6/site-packages/statsmodels/tsa/base/tsa_model.py:171: ValueWarning: No frequency information was provided, so inferred frequency D will be used.\n",
      "  % freq, ValueWarning)\n",
      "/Users/Robin/anaconda3/envs/python36/lib/python3.6/site-packages/statsmodels/base/model.py:488: HessianInversionWarning: Inverting hessian failed, no bse or cov_params available\n",
      "  'available', HessianInversionWarning)\n",
      "/Users/Robin/anaconda3/envs/python36/lib/python3.6/site-packages/statsmodels/base/model.py:508: ConvergenceWarning: Maximum Likelihood optimization failed to converge. Check mle_retvals\n",
      "  \"Check mle_retvals\", ConvergenceWarning)\n",
      "/Users/Robin/anaconda3/envs/python36/lib/python3.6/site-packages/statsmodels/tsa/base/tsa_model.py:171: ValueWarning: No frequency information was provided, so inferred frequency D will be used.\n",
      "  % freq, ValueWarning)\n"
     ]
    },
    {
     "name": "stdout",
     "output_type": "stream",
     "text": [
      "each p/q training recored\n",
      "        p     q          aic          bic         hqic\n",
      "0     0.0   0.0  1712.839862  1718.847755  1715.280770\n",
      "1     0.0   1.0  1653.446702  1662.458541  1657.108063\n",
      "2     0.0   2.0  1648.868523  1660.884308  1653.750338\n",
      "3     0.0   3.0  1618.676555  1633.696287  1624.778824\n",
      "4     0.0   4.0  1619.720071  1637.743748  1627.042793\n",
      "5     0.0   5.0  1619.720071  1637.743748  1627.042793\n",
      "6     0.0   6.0  1601.914727  1625.946297  1611.678357\n",
      "7     0.0   7.0  1603.490230  1630.525746  1614.474313\n",
      "8     0.0   8.0  1603.310918  1633.350381  1615.515455\n",
      "9     0.0   9.0  1605.309821  1638.353230  1618.734812\n",
      "10    0.0  10.0  1605.309821  1638.353230  1618.734812\n",
      "11    0.0  11.0  1605.309821  1638.353230  1618.734812\n",
      "12    0.0  12.0  1605.309821  1638.353230  1618.734812\n",
      "13    0.0  13.0  1605.309821  1638.353230  1618.734812\n",
      "14    0.0  14.0  1605.309821  1638.353230  1618.734812\n",
      "15    1.0   0.0  1607.860643  1616.852280  1611.513924\n",
      "16    1.0   1.0  1597.519474  1609.508323  1602.390516\n",
      "17    1.0   2.0  1599.224222  1614.210283  1605.313024\n",
      "18    1.0   3.0  1598.651550  1616.634824  1605.958113\n",
      "19    1.0   4.0  1589.854103  1610.834589  1598.378426\n",
      "20    1.0   5.0  1591.696186  1615.673884  1601.438269\n",
      "21    1.0   6.0  1597.857062  1624.831972  1608.816906\n",
      "22    1.0   7.0  1597.857062  1624.831972  1608.816906\n",
      "23    1.0   8.0  1597.857062  1624.831972  1608.816906\n",
      "24    1.0   9.0  1597.857062  1624.831972  1608.816906\n",
      "25    1.0  10.0  1584.441478  1623.405237  1600.272363\n",
      "26    1.0  11.0  1584.441478  1623.405237  1600.272363\n",
      "27    1.0  12.0  1584.441478  1623.405237  1600.272363\n",
      "28    1.0  13.0  1584.441478  1623.405237  1600.272363\n",
      "29    1.0  14.0  1584.441478  1623.405237  1600.272363\n",
      "..    ...   ...          ...          ...          ...\n",
      "195  13.0   0.0  1430.584604  1474.274427  1448.339039\n",
      "196  13.0   1.0  1430.772811  1477.375289  1449.710875\n",
      "197  13.0   2.0  1430.340009  1479.855142  1450.461702\n",
      "198  13.0   3.0  1426.405477  1478.833265  1447.710799\n",
      "199  13.0   4.0  1424.523137  1479.863580  1447.012088\n",
      "200  13.0   5.0  1423.940214  1482.193312  1447.612795\n",
      "201  13.0   6.0  1422.176404  1483.342157  1447.032613\n",
      "202  13.0   7.0  1422.056247  1486.134655  1448.096085\n",
      "203  13.0   8.0  1425.827359  1492.818421  1453.050826\n",
      "204  13.0   9.0  1426.404265  1496.307983  1454.811362\n",
      "205  13.0  10.0  1423.842525  1496.658897  1453.433250\n",
      "206  13.0  11.0  1425.595327  1501.324354  1456.369681\n",
      "207  13.0  12.0  1425.595327  1501.324354  1456.369681\n",
      "208  13.0  13.0  1425.595327  1501.324354  1456.369681\n",
      "209  13.0  14.0  1425.595327  1501.324354  1456.369681\n",
      "210  14.0   0.0  1422.994833  1469.479230  1441.884789\n",
      "211  14.0   1.0  1416.932979  1466.322650  1437.003557\n",
      "212  14.0   2.0  1414.806264  1467.101210  1436.057464\n",
      "213  14.0   3.0  1416.613774  1471.813994  1439.045596\n",
      "214  14.0   4.0  1416.518908  1474.624403  1440.131352\n",
      "215  14.0   5.0  1412.238930  1473.249700  1437.031996\n",
      "216  14.0   6.0  1406.490337  1470.406383  1432.464026\n",
      "217  14.0   7.0  1399.492166  1466.313486  1426.646477\n",
      "218  14.0   8.0  1410.469221  1480.195815  1438.804154\n",
      "219  14.0   9.0  1396.565518  1469.197387  1426.081073\n",
      "220  14.0  10.0  1399.551997  1475.089141  1430.248175\n",
      "221  14.0  11.0  1418.425290  1496.867709  1450.302090\n",
      "222  14.0  12.0  1408.309870  1489.657564  1441.367293\n",
      "223  14.0  13.0  1415.528163  1499.781131  1449.766207\n",
      "224  14.0  14.0  1415.528163  1499.781131  1449.766207\n",
      "\n",
      "[225 rows x 5 columns]\n",
      "best p and q\n",
      "+----+---+--------------------+-------------------+-------------------+\n",
      "| p  | q |        aic         |        bic        |        hqic       |\n",
      "+----+---+--------------------+-------------------+-------------------+\n",
      "| 14 | 7 | 1399.4921657031991 | 1466.313485607283 | 1426.646476832993 |\n",
      "+----+---+--------------------+-------------------+-------------------+\n"
     ]
    },
    {
     "name": "stderr",
     "output_type": "stream",
     "text": [
      "/Users/Robin/anaconda3/envs/python36/lib/python3.6/site-packages/statsmodels/base/model.py:488: HessianInversionWarning: Inverting hessian failed, no bse or cov_params available\n",
      "  'available', HessianInversionWarning)\n",
      "/Users/Robin/anaconda3/envs/python36/lib/python3.6/site-packages/statsmodels/base/model.py:508: ConvergenceWarning: Maximum Likelihood optimization failed to converge. Check mle_retvals\n",
      "  \"Check mle_retvals\", ConvergenceWarning)\n",
      "/Users/Robin/anaconda3/envs/python36/lib/python3.6/site-packages/statsmodels/tsa/base/tsa_model.py:171: ValueWarning: No frequency information was provided, so inferred frequency D will be used.\n",
      "  % freq, ValueWarning)\n"
     ]
    }
   ],
   "source": [
    "# 训练最佳ARMA模型并输出相关参数和结果\n",
    "model_arma = arma_fit(ts_data)"
   ]
  },
  {
   "cell_type": "code",
   "execution_count": 114,
   "metadata": {},
   "outputs": [
    {
     "data": {
      "image/png": "[encoded data removed]",
      "text/plain": [
       "<Figure size 432x288 with 1 Axes>"
      ]
     },
     "metadata": {},
     "output_type": "display_data"
    }
   ],
   "source": [
    "# 模型训练和效果预估\n",
    "ts_data = train_test(model_arma, ts_data, log_n, rule1=rule1, rule2 = rule2)"
   ]
  },
  {
   "cell_type": "code",
   "execution_count": 115,
   "metadata": {},
   "outputs": [
    {
     "name": "stdout",
     "output_type": "stream",
     "text": [
      "-------------predict data-------------\n",
      "1991-07-28    180.327154\n",
      "1991-07-29    163.122025\n",
      "1991-07-30    154.894728\n",
      "1991-07-31    176.307991\n",
      "1991-08-01    143.935861\n",
      "1991-08-02    122.711899\n",
      "Freq: D, dtype: float64\n"
     ]
    },
    {
     "data": {
      "image/png": "[encoded data removed]",
      "text/plain": [
       "<Figure size 432x288 with 1 Axes>"
      ]
     },
     "metadata": {},
     "output_type": "display_data"
    }
   ],
   "source": [
    "# 设置预测开始、结束索引\n",
    "start = '1991-07-28'\n",
    "end = '1991-08-02'\n",
    "predict_data(model_arma, ts_data, log_n, start, end, rule1 = rule1, rule2 = rule2)"
   ]
  },
  {
   "cell_type": "markdown",
   "metadata": {},
   "source": [
    "**相关术语**\n",
    "\n",
    "* 时间序列数据的平稳性：平稳性是做时间序列分析的前提条件，所谓平稳通俗理解就是数据没有随着时间呈现明显的趋势和规律，例如剧烈波动、递增、递减等，而是相对均匀且随机地分布在均值附近。\n",
    "\n",
    "* 白噪声检验：也被称为随机性检验，用于检验时间序列的各项数据值之间是否具有任何相关关系，白噪声分布是应用实践序列分析的前提。"
   ]
  }
 ],
 "metadata": {
  "kernelspec": {
   "display_name": "Python 3",
   "language": "python",
   "name": "python3"
  },
  "language_info": {
   "codemirror_mode": {
    "name": "ipython",
    "version": 3
   },
   "file_extension": ".py",
   "mimetype": "text/x-python",
   "name": "python",
   "nbconvert_exporter": "python",
   "pygments_lexer": "ipython3",
   "version": "3.6.6"
  }
 },
 "nbformat": 4,
 "nbformat_minor": 2
}
